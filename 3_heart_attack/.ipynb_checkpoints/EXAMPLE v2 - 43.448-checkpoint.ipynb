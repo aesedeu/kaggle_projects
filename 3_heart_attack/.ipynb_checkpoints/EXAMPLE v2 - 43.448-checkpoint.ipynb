{
 "cells": [
  {
   "cell_type": "code",
   "execution_count": 1,
   "id": "34675493",
   "metadata": {},
   "outputs": [],
   "source": [
    "import pandas as pd"
   ]
  },
  {
   "cell_type": "code",
   "execution_count": 2,
   "id": "c8ffda30",
   "metadata": {},
   "outputs": [],
   "source": [
    "df = pd.read_csv('D:/ds/leopard-challenge/2. classification/train.csv')"
   ]
  },
  {
   "cell_type": "code",
   "execution_count": 3,
   "id": "3fc86b34",
   "metadata": {},
   "outputs": [],
   "source": [
    "df_test = pd.read_csv('D:/ds/leopard-challenge/2. classification/test.csv')"
   ]
  },
  {
   "cell_type": "markdown",
   "id": "c43c0a80",
   "metadata": {},
   "source": [
    "# Machine learning моделирование"
   ]
  },
  {
   "cell_type": "code",
   "execution_count": 4,
   "id": "b48fac4e",
   "metadata": {},
   "outputs": [],
   "source": [
    "from sklearn.model_selection import train_test_split"
   ]
  },
  {
   "cell_type": "code",
   "execution_count": 5,
   "id": "1ee79baf",
   "metadata": {},
   "outputs": [],
   "source": [
    "train, test = train_test_split(df,train_size=0.8,random_state=42,stratify=df['smoking'])"
   ]
  },
  {
   "cell_type": "code",
   "execution_count": 6,
   "id": "9196c33b",
   "metadata": {},
   "outputs": [],
   "source": [
    "from catboost import CatBoostClassifier"
   ]
  },
  {
   "cell_type": "code",
   "execution_count": 7,
   "id": "acbcec35",
   "metadata": {},
   "outputs": [],
   "source": [
    "y  = ['smoking']\n",
    "X = list(df.drop(columns = ['smoking']).columns)\n",
    "cat_features = list(df.select_dtypes(include = ['object']).columns)"
   ]
  },
  {
   "cell_type": "code",
   "execution_count": 41,
   "id": "bf9d9938",
   "metadata": {},
   "outputs": [],
   "source": [
    "from catboost import Pool\n",
    "\n",
    "train_data = Pool(data=train[X],\n",
    "                  label=train[y],\n",
    "                  cat_features=cat_features\n",
    "                 )\n",
    "\n",
    "test_data = Pool(data=test[X],\n",
    "                  label=test[y],\n",
    "                  cat_features=cat_features\n",
    "                 )"
   ]
  },
  {
   "cell_type": "code",
   "execution_count": 42,
   "id": "b6f9173f",
   "metadata": {},
   "outputs": [
    {
     "data": {
      "text/plain": [
       "<catboost.core.CatBoostClassifier at 0x29fbd4fcbe0>"
      ]
     },
     "execution_count": 42,
     "metadata": {},
     "output_type": "execute_result"
    }
   ],
   "source": [
    "model = CatBoostClassifier(verbose=False)\n",
    "model.fit(train_data)"
   ]
  },
  {
   "cell_type": "code",
   "execution_count": 43,
   "id": "4cbdef38",
   "metadata": {},
   "outputs": [],
   "source": [
    "y_pred = model.predict(test[X])"
   ]
  },
  {
   "cell_type": "code",
   "execution_count": 44,
   "id": "bb9fae36",
   "metadata": {},
   "outputs": [
    {
     "name": "stdout",
     "output_type": "stream",
     "text": [
      "              precision    recall  f1-score   support\n",
      "\n",
      "           0       0.81      0.98      0.89      2213\n",
      "           1       0.60      0.12      0.20       560\n",
      "\n",
      "    accuracy                           0.81      2773\n",
      "   macro avg       0.71      0.55      0.54      2773\n",
      "weighted avg       0.77      0.81      0.75      2773\n",
      "\n"
     ]
    }
   ],
   "source": [
    "from sklearn.metrics import classification_report\n",
    "print(classification_report(test[y], y_pred))"
   ]
  },
  {
   "cell_type": "code",
   "execution_count": 45,
   "id": "bef02ce9",
   "metadata": {},
   "outputs": [
    {
     "name": "stdout",
     "output_type": "stream",
     "text": [
      "0.8059862964298593\n"
     ]
    }
   ],
   "source": [
    "from sklearn.metrics import accuracy_score\n",
    "print(accuracy_score(test[y], y_pred))"
   ]
  },
  {
   "cell_type": "markdown",
   "id": "ecf70b48",
   "metadata": {},
   "source": [
    "# optuna"
   ]
  },
  {
   "cell_type": "code",
   "execution_count": 46,
   "id": "44f9ad47",
   "metadata": {},
   "outputs": [],
   "source": [
    "def objective(trial):\n",
    "    model = CatBoostClassifier(\n",
    "        iterations=trial.suggest_int(\"iterations\", 100, 1000),\n",
    "        learning_rate=trial.suggest_float(\"learning_rate\", 1e-3, 1e-1, log=True),\n",
    "        depth=trial.suggest_int(\"depth\", 4, 10),\n",
    "        l2_leaf_reg=trial.suggest_float(\"l2_leaf_reg\", 1e-8, 100.0, log=True),\n",
    "        bootstrap_type=trial.suggest_categorical(\"bootstrap_type\", [\"Bayesian\"]),\n",
    "        random_strength=trial.suggest_float(\"random_strength\", 1e-8, 10.0, log=True),\n",
    "        bagging_temperature=trial.suggest_float(\"bagging_temperature\", 0.0, 10.0),\n",
    "        od_type=trial.suggest_categorical(\"od_type\", [\"IncToDec\", \"Iter\"]),\n",
    "        od_wait=trial.suggest_int(\"od_wait\", 10, 50),\n",
    "        verbose=False\n",
    "    )\n",
    "    model.fit(train_data)\n",
    "    y_pred = model.predict(test[X])\n",
    "    return accuracy_score(test[y], y_pred)"
   ]
  },
  {
   "cell_type": "code",
   "execution_count": 48,
   "id": "672c2153",
   "metadata": {},
   "outputs": [
    {
     "data": {
      "application/vnd.jupyter.widget-view+json": {
       "model_id": "1561f741603f4cc79c78fe870b8db461",
       "version_major": 2,
       "version_minor": 0
      },
      "text/plain": [
       "  0%|          | 0/100 [00:00<?, ?it/s]"
      ]
     },
     "metadata": {},
     "output_type": "display_data"
    }
   ],
   "source": [
    "import optuna\n",
    "from optuna.samplers import TPESampler\n",
    "\n",
    "\n",
    "optuna.logging.set_verbosity(optuna.logging.WARNING)\n",
    "\n",
    "from tqdm.notebook import trange, tqdm\n",
    "for i in tqdm(range(100), colour='blue'):\n",
    "\n",
    "        sampler = TPESampler(seed=1)\n",
    "        study = optuna.create_study(study_name=\"catboost\", direction=\"maximize\", sampler=sampler)\n",
    "        study.optimize(objective, n_trials=5)\n",
    "        pass"
   ]
  },
  {
   "cell_type": "code",
   "execution_count": 54,
   "id": "4ead4d89",
   "metadata": {},
   "outputs": [
    {
     "name": "stdout",
     "output_type": "stream",
     "text": [
      "Number of finished trials:  5\n",
      "Best trial:\n",
      "  Value:  0.8070681572304363\n",
      "  Params: \n",
      "    iterations: 475\n",
      "    learning_rate: 0.027583475549166746\n",
      "    depth: 4\n",
      "    l2_leaf_reg: 1.0551779964424746e-05\n",
      "    bootstrap_type: Bayesian\n",
      "    random_strength: 2.0931628460945333e-07\n",
      "    bagging_temperature: 0.923385947687978\n",
      "    od_type: Iter\n",
      "    od_wait: 26\n"
     ]
    }
   ],
   "source": [
    "print(\"Number of finished trials: \", len(study.trials))\n",
    "print(\"Best trial:\")\n",
    "trial = study.best_trial\n",
    "print(\"  Value: \", trial.value)\n",
    "print(\"  Params: \")\n",
    "for key, value in trial.params.items():\n",
    "    print(\"    {}: {}\".format(key, value))"
   ]
  },
  {
   "cell_type": "code",
   "execution_count": 121,
   "id": "79a13cea",
   "metadata": {},
   "outputs": [],
   "source": [
    "params_one = {\n",
    "    'learning_rate': 0.027583475549166746,\n",
    "    'depth': 4,\n",
    "    'l2_leaf_reg': 1.0551779964424746e-05,\n",
    "    'loss_function': 'Logloss',\n",
    "    'bootstrap_type': 'Bayesian',\n",
    "    'random_strength': 2.0931628460945333e-07,\n",
    "    'bagging_temperature': 0.923385947687978,\n",
    "    'od_type': 'Iter',\n",
    "    'od_wait': 26,\n",
    "    'eval_metric':'F1',\n",
    "    'auto_class_weights':'Balanced'\n",
    "    }"
   ]
  },
  {
   "cell_type": "code",
   "execution_count": 122,
   "id": "8ed83aaf",
   "metadata": {},
   "outputs": [],
   "source": [
    "model = CatBoostClassifier(**params_one, verbose=False)\n",
    "model.fit(train_data)\n",
    "y_pred = model.predict(test[X])"
   ]
  },
  {
   "cell_type": "code",
   "execution_count": 127,
   "id": "d2f914ce",
   "metadata": {},
   "outputs": [
    {
     "name": "stdout",
     "output_type": "stream",
     "text": [
      "              precision    recall  f1-score   support\n",
      "\n",
      "           0       0.88      0.70      0.78      2213\n",
      "           1       0.35      0.62      0.45       560\n",
      "\n",
      "    accuracy                           0.69      2773\n",
      "   macro avg       0.61      0.66      0.61      2773\n",
      "weighted avg       0.77      0.69      0.71      2773\n",
      "\n"
     ]
    }
   ],
   "source": [
    "print(classification_report(test[y], y_pred))"
   ]
  },
  {
   "cell_type": "code",
   "execution_count": 91,
   "id": "910a585e",
   "metadata": {},
   "outputs": [
    {
     "name": "stdout",
     "output_type": "stream",
     "text": [
      "0.6858997475658132\n"
     ]
    }
   ],
   "source": [
    "print(accuracy_score(test[y], y_pred))"
   ]
  },
  {
   "cell_type": "code",
   "execution_count": 125,
   "id": "de98aaa9",
   "metadata": {
    "scrolled": true
   },
   "outputs": [],
   "source": [
    "df_test['smoking'] = model.predict(df_test[X])"
   ]
  },
  {
   "cell_type": "code",
   "execution_count": 93,
   "id": "63b746cf",
   "metadata": {},
   "outputs": [],
   "source": [
    "df_result = df_test[['ID','smoking']]\n",
    "df_result.to_csv('my_sub_smoking.csv', index=False)"
   ]
  },
  {
   "cell_type": "code",
   "execution_count": null,
   "id": "e9ffa1d5",
   "metadata": {},
   "outputs": [],
   "source": []
  },
  {
   "cell_type": "code",
   "execution_count": 8,
   "id": "0fa8025c",
   "metadata": {},
   "outputs": [],
   "source": []
  }
 ],
 "metadata": {
  "kernelspec": {
   "display_name": "Python 3 (ipykernel)",
   "language": "python",
   "name": "python3"
  },
  "language_info": {
   "codemirror_mode": {
    "name": "ipython",
    "version": 3
   },
   "file_extension": ".py",
   "mimetype": "text/x-python",
   "name": "python",
   "nbconvert_exporter": "python",
   "pygments_lexer": "ipython3",
   "version": "3.10.4"
  }
 },
 "nbformat": 4,
 "nbformat_minor": 5
}
