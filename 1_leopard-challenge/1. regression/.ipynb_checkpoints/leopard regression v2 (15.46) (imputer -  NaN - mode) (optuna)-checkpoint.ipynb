{
 "cells": [
  {
   "cell_type": "code",
   "execution_count": 1,
   "id": "b5ed3fac",
   "metadata": {},
   "outputs": [],
   "source": [
    "import pandas as pd"
   ]
  },
  {
   "cell_type": "code",
   "execution_count": 2,
   "id": "28156a3f",
   "metadata": {},
   "outputs": [],
   "source": [
    "df = pd.read_csv('D:/ds/leopard-challenge/train.csv')"
   ]
  },
  {
   "cell_type": "code",
   "execution_count": 3,
   "id": "24001f9b",
   "metadata": {},
   "outputs": [],
   "source": [
    "test_new = pd.read_csv('D:/ds/leopard-challenge/test.csv')\n",
    "test_new['Price'] = 1"
   ]
  },
  {
   "cell_type": "code",
   "execution_count": 4,
   "id": "52a889f4",
   "metadata": {},
   "outputs": [
    {
     "data": {
      "text/plain": [
       "(8818, 22)"
      ]
     },
     "execution_count": 4,
     "metadata": {},
     "output_type": "execute_result"
    }
   ],
   "source": [
    "test_new.shape"
   ]
  },
  {
   "cell_type": "code",
   "execution_count": 5,
   "id": "a2f13b34",
   "metadata": {},
   "outputs": [
    {
     "data": {
      "text/plain": [
       "(18373, 22)"
      ]
     },
     "execution_count": 5,
     "metadata": {},
     "output_type": "execute_result"
    }
   ],
   "source": [
    "df.shape"
   ]
  },
  {
   "cell_type": "markdown",
   "id": "0b61f93a",
   "metadata": {},
   "source": [
    "# Выполняем предобработку данных и избавляемся от NaN"
   ]
  },
  {
   "cell_type": "code",
   "execution_count": 6,
   "id": "2f28ec5c",
   "metadata": {},
   "outputs": [
    {
     "data": {
      "text/plain": [
       "Suburb           0.000000\n",
       "Address          0.000000\n",
       "Rooms            0.000000\n",
       "Type             0.000000\n",
       "Price            0.000000\n",
       "Method           0.000000\n",
       "SellerG          0.000000\n",
       "Date             0.000000\n",
       "Distance         0.000000\n",
       "Postcode         0.000000\n",
       "Bedroom2         0.188755\n",
       "Bathroom         0.188864\n",
       "Car              0.194579\n",
       "Landsize         0.260926\n",
       "BuildingArea     0.578185\n",
       "YearBuilt        0.513199\n",
       "CouncilArea      0.000054\n",
       "Lattitude        0.181353\n",
       "Longtitude       0.181353\n",
       "Regionname       0.000054\n",
       "Propertycount    0.000054\n",
       "id               0.000000\n",
       "dtype: float64"
      ]
     },
     "execution_count": 6,
     "metadata": {},
     "output_type": "execute_result"
    }
   ],
   "source": [
    "df.isna().mean()"
   ]
  },
  {
   "cell_type": "code",
   "execution_count": 7,
   "id": "0d3b8460",
   "metadata": {},
   "outputs": [],
   "source": [
    "categorical_columns = [c for c in df.columns if df[c].dtype.name == 'object']\n",
    "numerical_columns   = [c for c in df.columns if df[c].dtype.name != 'object' and df[c].dtype.name != 'datetime64[ns]' and c != 'price']"
   ]
  },
  {
   "cell_type": "code",
   "execution_count": 8,
   "id": "cddb138e",
   "metadata": {},
   "outputs": [],
   "source": [
    "from sklearn.impute import SimpleImputer\n",
    "import numpy as np\n",
    "imputer = SimpleImputer(missing_values=np.nan, strategy='most_frequent')"
   ]
  },
  {
   "cell_type": "code",
   "execution_count": 9,
   "id": "af394880",
   "metadata": {},
   "outputs": [],
   "source": [
    "df[numerical_columns] = imputer.fit_transform(df[numerical_columns])\n",
    "test_new[numerical_columns] = imputer.transform(test_new[numerical_columns])"
   ]
  },
  {
   "cell_type": "code",
   "execution_count": 10,
   "id": "24660cf4",
   "metadata": {},
   "outputs": [],
   "source": [
    "df['CouncilArea'] = df['CouncilArea'].transform(lambda x: x.fillna('no_info'))\n",
    "df['Regionname'] = df['Regionname'].transform(lambda x: x.fillna('no_info'))\n",
    "\n",
    "test_new['CouncilArea'] = test_new['CouncilArea'].transform(lambda x: x.fillna('no_info'))\n",
    "test_new['Regionname'] = test_new['Regionname'].transform(lambda x: x.fillna('no_info'))"
   ]
  },
  {
   "cell_type": "code",
   "execution_count": 11,
   "id": "bbac985a",
   "metadata": {},
   "outputs": [
    {
     "data": {
      "text/plain": [
       "Suburb           0.0\n",
       "Address          0.0\n",
       "Rooms            0.0\n",
       "Type             0.0\n",
       "Price            0.0\n",
       "Method           0.0\n",
       "SellerG          0.0\n",
       "Date             0.0\n",
       "Distance         0.0\n",
       "Postcode         0.0\n",
       "Bedroom2         0.0\n",
       "Bathroom         0.0\n",
       "Car              0.0\n",
       "Landsize         0.0\n",
       "BuildingArea     0.0\n",
       "YearBuilt        0.0\n",
       "CouncilArea      0.0\n",
       "Lattitude        0.0\n",
       "Longtitude       0.0\n",
       "Regionname       0.0\n",
       "Propertycount    0.0\n",
       "id               0.0\n",
       "dtype: float64"
      ]
     },
     "execution_count": 11,
     "metadata": {},
     "output_type": "execute_result"
    }
   ],
   "source": [
    "df.isna().mean()"
   ]
  },
  {
   "cell_type": "markdown",
   "id": "4738df65",
   "metadata": {},
   "source": [
    "# Начинаем сборку модели машинного обучения"
   ]
  },
  {
   "cell_type": "code",
   "execution_count": 12,
   "id": "7949326d",
   "metadata": {},
   "outputs": [],
   "source": [
    "from sklearn.model_selection import train_test_split\n",
    "train, test =  train_test_split(df,test_size=0.2,random_state=42)"
   ]
  },
  {
   "cell_type": "code",
   "execution_count": 13,
   "id": "498cba4c",
   "metadata": {},
   "outputs": [],
   "source": [
    "y  = ['Price']\n",
    "X = list(df.drop(columns = ['Price']).columns)\n",
    "cat_features = list(df.select_dtypes(include = ['object']).columns)"
   ]
  },
  {
   "cell_type": "code",
   "execution_count": 14,
   "id": "0ae4d893",
   "metadata": {},
   "outputs": [],
   "source": [
    "from catboost import Pool\n",
    "\n",
    "train_data = Pool(data=train[X], \n",
    "                  label=train[y], \n",
    "                  cat_features=cat_features)"
   ]
  },
  {
   "cell_type": "markdown",
   "id": "1d96c2ea",
   "metadata": {},
   "source": [
    "# Подбор параметров"
   ]
  },
  {
   "cell_type": "code",
   "execution_count": 15,
   "id": "4a13f9a6",
   "metadata": {},
   "outputs": [],
   "source": [
    "def objective(trial):\n",
    "    global train_data\n",
    "\n",
    "    param = {\n",
    "        #'task_type':trial.suggest_categorical(\"task_type\", 'CPU'),\n",
    "        #'devices':trial.suggest_int('devices', 0, 1),\n",
    "        \"n_estimators\": trial.suggest_int(\"n_estimators\", 1000, 4000, 200),\n",
    "        \"max_depth\": trial.suggest_int(\"max_depth\", 2, 10, 1),\n",
    "        \"subsample\": trial.suggest_float(\"subsample\", 0.5, 1.0),\n",
    "        \"l2_leaf_reg\": trial.suggest_float(\"l2_leaf_reg\", 1, 8),\n",
    "        \"random_strength\": trial.suggest_float(\"random_strength\", 0.9, 1.4),\n",
    "        \"learning_rate\": trial.suggest_float(\"eta\", 1e-2, 1e-1, log=True),\n",
    "        \"min_data_in_leaf\": trial.suggest_int(\"min_data_in_leaf\", 3, 5),\n",
    "        \"grow_policy\": trial.suggest_categorical(\"grow_policy\", [\"Lossguide\"]),\n",
    "        #\"boosting_type\": trial.suggest_categorical(\"boosting_type\", [\"Ordered\", \"Plain\"]),\n",
    "        \"eval_metric\": trial.suggest_categorical(\"eval_metric\", [\"MAPE\"]),\n",
    "        \"loss_function\": trial.suggest_categorical(\"loss_function\", [\"MAE\"]),\n",
    "        \"silent\": trial.suggest_categorical(\"silent\", [True]),\n",
    "        #'logging_level': trial.suggest_categorical('logging_level', ['Silent']),\n",
    "    }\n",
    "    \n",
    "    scores = cv(train_data, param, fold_count=5)\n",
    "\n",
    "    return scores['test-MAPE-mean'].values[-1]"
   ]
  },
  {
   "cell_type": "code",
   "execution_count": 16,
   "id": "07f2aa73",
   "metadata": {},
   "outputs": [
    {
     "name": "stderr",
     "output_type": "stream",
     "text": [
      "C:\\Users\\ev708\\AppData\\Roaming\\Python\\Python310\\site-packages\\tqdm\\auto.py:21: TqdmWarning: IProgress not found. Please update jupyter and ipywidgets. See https://ipywidgets.readthedocs.io/en/stable/user_install.html\n",
      "  from .autonotebook import tqdm as notebook_tqdm\n"
     ]
    }
   ],
   "source": [
    "import optuna\n",
    "from catboost import cv\n",
    "#https://habr.com/ru/articles/704432/"
   ]
  },
  {
   "cell_type": "code",
   "execution_count": 17,
   "id": "2d9fb7e0",
   "metadata": {},
   "outputs": [
    {
     "name": "stderr",
     "output_type": "stream",
     "text": [
      "\u001b[32m[I 2023-05-08 18:35:59,275]\u001b[0m A new study created in memory with name: no-name-9ba9ebe9-3189-4343-a0d5-6038b56807ab\u001b[0m\n",
      "C:\\Users\\ev708\\AppData\\Local\\Programs\\Python\\Python310\\lib\\site-packages\\optuna\\progress_bar.py:56: ExperimentalWarning: Progress bar is experimental (supported from v1.2.0). The interface can change in the future.\n",
      "  self._init_valid()\n"
     ]
    },
    {
     "name": "stdout",
     "output_type": "stream",
     "text": [
      "CPU times: total: 0 ns\n",
      "Wall time: 0 ns\n"
     ]
    },
    {
     "name": "stderr",
     "output_type": "stream",
     "text": [
      "\r",
      "  0%|                                                                                            | 0/5 [00:00<?, ?it/s]"
     ]
    },
    {
     "name": "stdout",
     "output_type": "stream",
     "text": [
      "Training on fold [0/5]\n",
      "\n",
      "bestTest = 0.1492435183\n",
      "bestIteration = 1999\n",
      "\n",
      "Training on fold [1/5]\n",
      "\n",
      "bestTest = 0.1492415044\n",
      "bestIteration = 1999\n",
      "\n",
      "Training on fold [2/5]\n",
      "\n",
      "bestTest = 0.1477802833\n",
      "bestIteration = 1996\n",
      "\n",
      "Training on fold [3/5]\n",
      "\n",
      "bestTest = 0.1500945053\n",
      "bestIteration = 1999\n",
      "\n",
      "Training on fold [4/5]\n"
     ]
    },
    {
     "name": "stderr",
     "output_type": "stream",
     "text": [
      "Best trial: 0. Best value: 0.148857:  20%|████████▌                                  | 1/5 [35:39<2:22:36, 2139.24s/it]"
     ]
    },
    {
     "name": "stdout",
     "output_type": "stream",
     "text": [
      "\n",
      "bestTest = 0.1479239844\n",
      "bestIteration = 1999\n",
      "\n",
      "\u001b[32m[I 2023-05-08 19:11:38,511]\u001b[0m Trial 0 finished with value: 0.14885676143491938 and parameters: {'n_estimators': 2000, 'max_depth': 7, 'subsample': 0.8134539266733086, 'l2_leaf_reg': 7.951565489233008, 'random_strength': 1.09983765402723, 'eta': 0.010363814896155194, 'min_data_in_leaf': 3, 'grow_policy': 'Lossguide', 'eval_metric': 'MAPE', 'loss_function': 'MAE', 'silent': True}. Best is trial 0 with value: 0.14885676143491938.\u001b[0m\n",
      "Training on fold [0/5]\n",
      "\n",
      "bestTest = 0.1591381588\n",
      "bestIteration = 1978\n",
      "\n",
      "Training on fold [1/5]\n",
      "\n",
      "bestTest = 0.1608159356\n",
      "bestIteration = 1997\n",
      "\n",
      "Training on fold [2/5]\n",
      "\n",
      "bestTest = 0.1581104602\n",
      "bestIteration = 1999\n",
      "\n",
      "Training on fold [3/5]\n",
      "\n",
      "bestTest = 0.1618389411\n",
      "bestIteration = 1998\n",
      "\n",
      "Training on fold [4/5]\n"
     ]
    },
    {
     "name": "stderr",
     "output_type": "stream",
     "text": [
      "Best trial: 1. Best value: 0.159927:  40%|██████████████████                           | 2/5 [40:12<52:04, 1041.39s/it]"
     ]
    },
    {
     "name": "stdout",
     "output_type": "stream",
     "text": [
      "\n",
      "bestTest = 0.1596416611\n",
      "bestIteration = 1964\n",
      "\n",
      "\u001b[32m[I 2023-05-08 19:16:11,411]\u001b[0m Trial 1 finished with value: 0.15992656026208046 and parameters: {'n_estimators': 2000, 'max_depth': 2, 'subsample': 0.7932186677292388, 'l2_leaf_reg': 5.626725698216935, 'random_strength': 1.0604184280973554, 'eta': 0.050340813245235205, 'min_data_in_leaf': 3, 'grow_policy': 'Lossguide', 'eval_metric': 'MAPE', 'loss_function': 'MAE', 'silent': True}. Best is trial 1 with value: 0.15992656026208046.\u001b[0m\n",
      "Training on fold [0/5]\n",
      "\n",
      "bestTest = 0.1545232374\n",
      "bestIteration = 3579\n",
      "\n",
      "Training on fold [1/5]\n",
      "\n",
      "bestTest = 0.1569753945\n",
      "bestIteration = 3599\n",
      "\n",
      "Training on fold [2/5]\n",
      "\n",
      "bestTest = 0.1547240494\n",
      "bestIteration = 3599\n",
      "\n",
      "Training on fold [3/5]\n",
      "\n",
      "bestTest = 0.1591887145\n",
      "bestIteration = 3598\n",
      "\n",
      "Training on fold [4/5]\n"
     ]
    },
    {
     "name": "stderr",
     "output_type": "stream",
     "text": [
      "Best trial: 1. Best value: 0.159927:  60%|███████████████████████████▌                  | 3/5 [49:04<26:57, 808.85s/it]"
     ]
    },
    {
     "name": "stdout",
     "output_type": "stream",
     "text": [
      "\n",
      "bestTest = 0.1542523876\n",
      "bestIteration = 3595\n",
      "\n",
      "\u001b[32m[I 2023-05-08 19:25:03,523]\u001b[0m Trial 2 finished with value: 0.15593693333975292 and parameters: {'n_estimators': 3600, 'max_depth': 2, 'subsample': 0.7640703244792189, 'l2_leaf_reg': 4.659490860139067, 'random_strength': 1.0959848389344362, 'eta': 0.05770304503017329, 'min_data_in_leaf': 5, 'grow_policy': 'Lossguide', 'eval_metric': 'MAPE', 'loss_function': 'MAE', 'silent': True}. Best is trial 1 with value: 0.15992656026208046.\u001b[0m\n",
      "Training on fold [0/5]\n",
      "\n",
      "bestTest = 0.1505366622\n",
      "bestIteration = 1595\n",
      "\n",
      "Training on fold [1/5]\n",
      "\n",
      "bestTest = 0.1495758026\n",
      "bestIteration = 1599\n",
      "\n",
      "Training on fold [2/5]\n",
      "\n",
      "bestTest = 0.1480476673\n",
      "bestIteration = 1594\n",
      "\n",
      "Training on fold [3/5]\n",
      "\n",
      "bestTest = 0.1512713568\n",
      "bestIteration = 1599\n",
      "\n",
      "Training on fold [4/5]\n"
     ]
    },
    {
     "name": "stderr",
     "output_type": "stream",
     "text": [
      "Best trial: 1. Best value: 0.159927:  80%|████████████████████████████████████▊         | 4/5 [59:59<12:28, 748.16s/it]"
     ]
    },
    {
     "name": "stdout",
     "output_type": "stream",
     "text": [
      "\n",
      "bestTest = 0.1481322012\n",
      "bestIteration = 1599\n",
      "\n",
      "\u001b[32m[I 2023-05-08 19:35:58,656]\u001b[0m Trial 3 finished with value: 0.14951614164215438 and parameters: {'n_estimators': 1600, 'max_depth': 4, 'subsample': 0.9676595526289506, 'l2_leaf_reg': 2.2645427456137512, 'random_strength': 1.3545613028140522, 'eta': 0.04241055507634931, 'min_data_in_leaf': 3, 'grow_policy': 'Lossguide', 'eval_metric': 'MAPE', 'loss_function': 'MAE', 'silent': True}. Best is trial 1 with value: 0.15992656026208046.\u001b[0m\n",
      "Training on fold [0/5]\n",
      "\n",
      "bestTest = 0.1570389519\n",
      "bestIteration = 998\n",
      "\n",
      "Training on fold [1/5]\n",
      "\n",
      "bestTest = 0.1576113695\n",
      "bestIteration = 999\n",
      "\n",
      "Training on fold [2/5]\n",
      "\n",
      "bestTest = 0.154196392\n",
      "bestIteration = 999\n",
      "\n",
      "Training on fold [3/5]\n",
      "\n",
      "bestTest = 0.1579949588\n",
      "bestIteration = 999\n",
      "\n",
      "Training on fold [4/5]\n"
     ]
    },
    {
     "name": "stderr",
     "output_type": "stream",
     "text": [
      "Best trial: 1. Best value: 0.159927: 100%|████████████████████████████████████████████| 5/5 [1:04:01<00:00, 768.26s/it]"
     ]
    },
    {
     "name": "stdout",
     "output_type": "stream",
     "text": [
      "\n",
      "bestTest = 0.1550682095\n",
      "bestIteration = 999\n",
      "\n",
      "\u001b[32m[I 2023-05-08 19:40:00,559]\u001b[0m Trial 4 finished with value: 0.15638208721597313 and parameters: {'n_estimators': 1000, 'max_depth': 4, 'subsample': 0.6192691458871227, 'l2_leaf_reg': 5.549068223772672, 'random_strength': 1.148230182466269, 'eta': 0.01809462862480176, 'min_data_in_leaf': 5, 'grow_policy': 'Lossguide', 'eval_metric': 'MAPE', 'loss_function': 'MAE', 'silent': True}. Best is trial 1 with value: 0.15992656026208046.\u001b[0m\n"
     ]
    },
    {
     "name": "stderr",
     "output_type": "stream",
     "text": [
      "\n"
     ]
    }
   ],
   "source": [
    "# %time\n",
    "# study = optuna.create_study(direction=\"maximize\")\n",
    "# study.optimize(objective, n_trials=5, show_progress_bar = True)"
   ]
  },
  {
   "cell_type": "code",
   "execution_count": 18,
   "id": "399e854d",
   "metadata": {},
   "outputs": [
    {
     "data": {
      "text/plain": [
       "{'n_estimators': 2000,\n",
       " 'max_depth': 2,\n",
       " 'subsample': 0.7932186677292388,\n",
       " 'l2_leaf_reg': 5.626725698216935,\n",
       " 'random_strength': 1.0604184280973554,\n",
       " 'eta': 0.050340813245235205,\n",
       " 'min_data_in_leaf': 3,\n",
       " 'grow_policy': 'Lossguide',\n",
       " 'eval_metric': 'MAPE',\n",
       " 'loss_function': 'MAE',\n",
       " 'silent': True}"
      ]
     },
     "execution_count": 18,
     "metadata": {},
     "output_type": "execute_result"
    }
   ],
   "source": [
    "study.best_params"
   ]
  },
  {
   "cell_type": "code",
   "execution_count": 19,
   "id": "118cef5c",
   "metadata": {},
   "outputs": [],
   "source": [
    "best_params1 = {'n_estimators': 2000,\n",
    " 'max_depth': 2,\n",
    " 'subsample': 0.7932186677292388,\n",
    " 'l2_leaf_reg': 5.626725698216935,\n",
    " 'random_strength': 1.0604184280973554,\n",
    " 'eta': 0.050340813245235205,\n",
    " 'min_data_in_leaf': 3,\n",
    " 'grow_policy': 'Lossguide',\n",
    " 'eval_metric': 'MAPE',\n",
    " 'loss_function': 'MAE',\n",
    " 'silent': True}"
   ]
  },
  {
   "cell_type": "code",
   "execution_count": 20,
   "id": "9c5a00b5",
   "metadata": {},
   "outputs": [],
   "source": [
    "from catboost import CatBoostRegressor"
   ]
  },
  {
   "cell_type": "code",
   "execution_count": 21,
   "id": "1f2620ae",
   "metadata": {},
   "outputs": [],
   "source": [
    "model = CatBoostRegressor(**best_params1)"
   ]
  },
  {
   "cell_type": "code",
   "execution_count": 22,
   "id": "cff8e036",
   "metadata": {},
   "outputs": [
    {
     "data": {
      "text/plain": [
       "<catboost.core.CatBoostRegressor at 0x1c6129cf850>"
      ]
     },
     "execution_count": 22,
     "metadata": {},
     "output_type": "execute_result"
    }
   ],
   "source": [
    "model.fit(train_data)"
   ]
  },
  {
   "cell_type": "code",
   "execution_count": 23,
   "id": "f0f2a852",
   "metadata": {},
   "outputs": [],
   "source": [
    "import joblib"
   ]
  },
  {
   "cell_type": "code",
   "execution_count": 24,
   "id": "7975b8d9",
   "metadata": {},
   "outputs": [
    {
     "data": {
      "text/plain": [
       "['catboost_v2_mode.pkl']"
      ]
     },
     "execution_count": 24,
     "metadata": {},
     "output_type": "execute_result"
    }
   ],
   "source": [
    "joblib.dump(model, \"catboost_v2_mode.pkl\", compress=9)"
   ]
  },
  {
   "cell_type": "code",
   "execution_count": 25,
   "id": "68ae4ac3",
   "metadata": {},
   "outputs": [],
   "source": [
    "model_catboost_plk = joblib.load(\"catboost_v2_mode.pkl\")"
   ]
  },
  {
   "cell_type": "code",
   "execution_count": 26,
   "id": "cfd7f070",
   "metadata": {},
   "outputs": [],
   "source": [
    "test['predict'] = model_catboost_plk.predict(test[X])"
   ]
  },
  {
   "cell_type": "code",
   "execution_count": 27,
   "id": "1606c962",
   "metadata": {},
   "outputs": [],
   "source": [
    "from sklearn.metrics import mean_absolute_error, mean_absolute_percentage_error\n",
    "\n",
    "def error(y_true,y_pred):\n",
    "  print(mean_absolute_error(y_true,y_pred))\n",
    "  print(mean_absolute_percentage_error(y_true,y_pred))"
   ]
  },
  {
   "cell_type": "code",
   "execution_count": 28,
   "id": "4bccc05b",
   "metadata": {},
   "outputs": [
    {
     "name": "stdout",
     "output_type": "stream",
     "text": [
      "182575.05277768575\n",
      "0.1634546585410933\n"
     ]
    }
   ],
   "source": [
    "error(test['Price'],test['predict'])"
   ]
  },
  {
   "cell_type": "code",
   "execution_count": 29,
   "id": "f819ef7b",
   "metadata": {
    "collapsed": true
   },
   "outputs": [
    {
     "data": {
      "text/html": [
       "<div>\n",
       "<style scoped>\n",
       "    .dataframe tbody tr th:only-of-type {\n",
       "        vertical-align: middle;\n",
       "    }\n",
       "\n",
       "    .dataframe tbody tr th {\n",
       "        vertical-align: top;\n",
       "    }\n",
       "\n",
       "    .dataframe thead th {\n",
       "        text-align: right;\n",
       "    }\n",
       "</style>\n",
       "<table border=\"1\" class=\"dataframe\">\n",
       "  <thead>\n",
       "    <tr style=\"text-align: right;\">\n",
       "      <th></th>\n",
       "      <th>Feature Id</th>\n",
       "      <th>Importances</th>\n",
       "    </tr>\n",
       "  </thead>\n",
       "  <tbody>\n",
       "    <tr>\n",
       "      <th>0</th>\n",
       "      <td>Type</td>\n",
       "      <td>22.129792</td>\n",
       "    </tr>\n",
       "    <tr>\n",
       "      <th>1</th>\n",
       "      <td>Suburb</td>\n",
       "      <td>20.344826</td>\n",
       "    </tr>\n",
       "    <tr>\n",
       "      <th>2</th>\n",
       "      <td>Rooms</td>\n",
       "      <td>16.744124</td>\n",
       "    </tr>\n",
       "    <tr>\n",
       "      <th>3</th>\n",
       "      <td>CouncilArea</td>\n",
       "      <td>8.296153</td>\n",
       "    </tr>\n",
       "    <tr>\n",
       "      <th>4</th>\n",
       "      <td>Distance</td>\n",
       "      <td>6.356356</td>\n",
       "    </tr>\n",
       "    <tr>\n",
       "      <th>5</th>\n",
       "      <td>Regionname</td>\n",
       "      <td>5.932562</td>\n",
       "    </tr>\n",
       "    <tr>\n",
       "      <th>6</th>\n",
       "      <td>SellerG</td>\n",
       "      <td>4.699545</td>\n",
       "    </tr>\n",
       "    <tr>\n",
       "      <th>7</th>\n",
       "      <td>Bathroom</td>\n",
       "      <td>3.906006</td>\n",
       "    </tr>\n",
       "    <tr>\n",
       "      <th>8</th>\n",
       "      <td>BuildingArea</td>\n",
       "      <td>3.370081</td>\n",
       "    </tr>\n",
       "    <tr>\n",
       "      <th>9</th>\n",
       "      <td>YearBuilt</td>\n",
       "      <td>2.137879</td>\n",
       "    </tr>\n",
       "    <tr>\n",
       "      <th>10</th>\n",
       "      <td>Landsize</td>\n",
       "      <td>1.593604</td>\n",
       "    </tr>\n",
       "    <tr>\n",
       "      <th>11</th>\n",
       "      <td>Lattitude</td>\n",
       "      <td>0.892432</td>\n",
       "    </tr>\n",
       "    <tr>\n",
       "      <th>12</th>\n",
       "      <td>Postcode</td>\n",
       "      <td>0.821925</td>\n",
       "    </tr>\n",
       "    <tr>\n",
       "      <th>13</th>\n",
       "      <td>Longtitude</td>\n",
       "      <td>0.742720</td>\n",
       "    </tr>\n",
       "    <tr>\n",
       "      <th>14</th>\n",
       "      <td>Propertycount</td>\n",
       "      <td>0.432171</td>\n",
       "    </tr>\n",
       "    <tr>\n",
       "      <th>15</th>\n",
       "      <td>Bedroom2</td>\n",
       "      <td>0.432016</td>\n",
       "    </tr>\n",
       "    <tr>\n",
       "      <th>16</th>\n",
       "      <td>Car</td>\n",
       "      <td>0.399445</td>\n",
       "    </tr>\n",
       "    <tr>\n",
       "      <th>17</th>\n",
       "      <td>Method</td>\n",
       "      <td>0.375853</td>\n",
       "    </tr>\n",
       "    <tr>\n",
       "      <th>18</th>\n",
       "      <td>Date</td>\n",
       "      <td>0.360956</td>\n",
       "    </tr>\n",
       "    <tr>\n",
       "      <th>19</th>\n",
       "      <td>id</td>\n",
       "      <td>0.026788</td>\n",
       "    </tr>\n",
       "    <tr>\n",
       "      <th>20</th>\n",
       "      <td>Address</td>\n",
       "      <td>0.004767</td>\n",
       "    </tr>\n",
       "  </tbody>\n",
       "</table>\n",
       "</div>"
      ],
      "text/plain": [
       "       Feature Id  Importances\n",
       "0            Type    22.129792\n",
       "1          Suburb    20.344826\n",
       "2           Rooms    16.744124\n",
       "3     CouncilArea     8.296153\n",
       "4        Distance     6.356356\n",
       "5      Regionname     5.932562\n",
       "6         SellerG     4.699545\n",
       "7        Bathroom     3.906006\n",
       "8    BuildingArea     3.370081\n",
       "9       YearBuilt     2.137879\n",
       "10       Landsize     1.593604\n",
       "11      Lattitude     0.892432\n",
       "12       Postcode     0.821925\n",
       "13     Longtitude     0.742720\n",
       "14  Propertycount     0.432171\n",
       "15       Bedroom2     0.432016\n",
       "16            Car     0.399445\n",
       "17         Method     0.375853\n",
       "18           Date     0.360956\n",
       "19             id     0.026788\n",
       "20        Address     0.004767"
      ]
     },
     "execution_count": 29,
     "metadata": {},
     "output_type": "execute_result"
    }
   ],
   "source": [
    "model.get_feature_importance(prettified=True)"
   ]
  },
  {
   "cell_type": "markdown",
   "id": "036bede0",
   "metadata": {},
   "source": [
    "# Загружаем датасет для submission"
   ]
  },
  {
   "cell_type": "code",
   "execution_count": 191,
   "id": "72501124",
   "metadata": {},
   "outputs": [
    {
     "data": {
      "text/plain": [
       "(8818, 22)"
      ]
     },
     "execution_count": 191,
     "metadata": {},
     "output_type": "execute_result"
    }
   ],
   "source": [
    "test_new.shape"
   ]
  },
  {
   "cell_type": "code",
   "execution_count": 30,
   "id": "8e1f24a9",
   "metadata": {},
   "outputs": [],
   "source": [
    "test_new['Price'] = model_catboost_plk.predict(test_new[X])"
   ]
  },
  {
   "cell_type": "code",
   "execution_count": 31,
   "id": "9f00eae2",
   "metadata": {},
   "outputs": [
    {
     "data": {
      "text/html": [
       "<div>\n",
       "<style scoped>\n",
       "    .dataframe tbody tr th:only-of-type {\n",
       "        vertical-align: middle;\n",
       "    }\n",
       "\n",
       "    .dataframe tbody tr th {\n",
       "        vertical-align: top;\n",
       "    }\n",
       "\n",
       "    .dataframe thead th {\n",
       "        text-align: right;\n",
       "    }\n",
       "</style>\n",
       "<table border=\"1\" class=\"dataframe\">\n",
       "  <thead>\n",
       "    <tr style=\"text-align: right;\">\n",
       "      <th></th>\n",
       "      <th>Suburb</th>\n",
       "      <th>Address</th>\n",
       "      <th>Rooms</th>\n",
       "      <th>Type</th>\n",
       "      <th>Method</th>\n",
       "      <th>SellerG</th>\n",
       "      <th>Date</th>\n",
       "      <th>Distance</th>\n",
       "      <th>Postcode</th>\n",
       "      <th>Bedroom2</th>\n",
       "      <th>...</th>\n",
       "      <th>Landsize</th>\n",
       "      <th>BuildingArea</th>\n",
       "      <th>YearBuilt</th>\n",
       "      <th>CouncilArea</th>\n",
       "      <th>Lattitude</th>\n",
       "      <th>Longtitude</th>\n",
       "      <th>Regionname</th>\n",
       "      <th>Propertycount</th>\n",
       "      <th>id</th>\n",
       "      <th>Price</th>\n",
       "    </tr>\n",
       "  </thead>\n",
       "  <tbody>\n",
       "    <tr>\n",
       "      <th>0</th>\n",
       "      <td>Abbotsford</td>\n",
       "      <td>513/6 Acacia Pl</td>\n",
       "      <td>3.0</td>\n",
       "      <td>u</td>\n",
       "      <td>S</td>\n",
       "      <td>Dingle</td>\n",
       "      <td>7/10/2017</td>\n",
       "      <td>3.0</td>\n",
       "      <td>3067.0</td>\n",
       "      <td>3.0</td>\n",
       "      <td>...</td>\n",
       "      <td>0.0</td>\n",
       "      <td>120.0</td>\n",
       "      <td>1970.0</td>\n",
       "      <td>Yarra City Council</td>\n",
       "      <td>-37.83610</td>\n",
       "      <td>144.99660</td>\n",
       "      <td>Northern Metropolitan</td>\n",
       "      <td>4019.0</td>\n",
       "      <td>30130.0</td>\n",
       "      <td>9.003098e+05</td>\n",
       "    </tr>\n",
       "    <tr>\n",
       "      <th>1</th>\n",
       "      <td>Abbotsford</td>\n",
       "      <td>60 Charles St</td>\n",
       "      <td>3.0</td>\n",
       "      <td>h</td>\n",
       "      <td>S</td>\n",
       "      <td>Jellis</td>\n",
       "      <td>7/10/2017</td>\n",
       "      <td>3.0</td>\n",
       "      <td>3067.0</td>\n",
       "      <td>3.0</td>\n",
       "      <td>...</td>\n",
       "      <td>192.0</td>\n",
       "      <td>109.0</td>\n",
       "      <td>1900.0</td>\n",
       "      <td>Yarra City Council</td>\n",
       "      <td>-37.80792</td>\n",
       "      <td>144.99508</td>\n",
       "      <td>Northern Metropolitan</td>\n",
       "      <td>4019.0</td>\n",
       "      <td>18311.0</td>\n",
       "      <td>1.454189e+06</td>\n",
       "    </tr>\n",
       "    <tr>\n",
       "      <th>2</th>\n",
       "      <td>Abbotsford</td>\n",
       "      <td>38 Studley St</td>\n",
       "      <td>3.0</td>\n",
       "      <td>h</td>\n",
       "      <td>S</td>\n",
       "      <td>Nelson</td>\n",
       "      <td>7/10/2017</td>\n",
       "      <td>3.0</td>\n",
       "      <td>3067.0</td>\n",
       "      <td>3.0</td>\n",
       "      <td>...</td>\n",
       "      <td>159.0</td>\n",
       "      <td>93.0</td>\n",
       "      <td>1890.0</td>\n",
       "      <td>Yarra City Council</td>\n",
       "      <td>-37.80124</td>\n",
       "      <td>144.99459</td>\n",
       "      <td>Northern Metropolitan</td>\n",
       "      <td>4019.0</td>\n",
       "      <td>18934.0</td>\n",
       "      <td>1.307728e+06</td>\n",
       "    </tr>\n",
       "    <tr>\n",
       "      <th>3</th>\n",
       "      <td>Airport West</td>\n",
       "      <td>18 Glenys Av</td>\n",
       "      <td>3.0</td>\n",
       "      <td>h</td>\n",
       "      <td>S</td>\n",
       "      <td>Raine</td>\n",
       "      <td>7/10/2017</td>\n",
       "      <td>10.4</td>\n",
       "      <td>3042.0</td>\n",
       "      <td>3.0</td>\n",
       "      <td>...</td>\n",
       "      <td>536.0</td>\n",
       "      <td>108.0</td>\n",
       "      <td>1980.0</td>\n",
       "      <td>Moonee Valley City Council</td>\n",
       "      <td>-37.72285</td>\n",
       "      <td>144.87539</td>\n",
       "      <td>Western Metropolitan</td>\n",
       "      <td>3464.0</td>\n",
       "      <td>1824.0</td>\n",
       "      <td>7.663721e+05</td>\n",
       "    </tr>\n",
       "    <tr>\n",
       "      <th>4</th>\n",
       "      <td>Airport West</td>\n",
       "      <td>35 Thomas St</td>\n",
       "      <td>3.0</td>\n",
       "      <td>h</td>\n",
       "      <td>S</td>\n",
       "      <td>Nelson</td>\n",
       "      <td>7/10/2017</td>\n",
       "      <td>10.4</td>\n",
       "      <td>3042.0</td>\n",
       "      <td>3.0</td>\n",
       "      <td>...</td>\n",
       "      <td>0.0</td>\n",
       "      <td>130.0</td>\n",
       "      <td>2009.0</td>\n",
       "      <td>Moonee Valley City Council</td>\n",
       "      <td>-37.71754</td>\n",
       "      <td>144.87704</td>\n",
       "      <td>Western Metropolitan</td>\n",
       "      <td>3464.0</td>\n",
       "      <td>31339.0</td>\n",
       "      <td>7.278203e+05</td>\n",
       "    </tr>\n",
       "  </tbody>\n",
       "</table>\n",
       "<p>5 rows × 22 columns</p>\n",
       "</div>"
      ],
      "text/plain": [
       "         Suburb          Address  Rooms Type Method SellerG       Date  \\\n",
       "0    Abbotsford  513/6 Acacia Pl    3.0    u      S  Dingle  7/10/2017   \n",
       "1    Abbotsford    60 Charles St    3.0    h      S  Jellis  7/10/2017   \n",
       "2    Abbotsford    38 Studley St    3.0    h      S  Nelson  7/10/2017   \n",
       "3  Airport West     18 Glenys Av    3.0    h      S   Raine  7/10/2017   \n",
       "4  Airport West     35 Thomas St    3.0    h      S  Nelson  7/10/2017   \n",
       "\n",
       "   Distance  Postcode  Bedroom2  ...  Landsize  BuildingArea  YearBuilt  \\\n",
       "0       3.0    3067.0       3.0  ...       0.0         120.0     1970.0   \n",
       "1       3.0    3067.0       3.0  ...     192.0         109.0     1900.0   \n",
       "2       3.0    3067.0       3.0  ...     159.0          93.0     1890.0   \n",
       "3      10.4    3042.0       3.0  ...     536.0         108.0     1980.0   \n",
       "4      10.4    3042.0       3.0  ...       0.0         130.0     2009.0   \n",
       "\n",
       "                  CouncilArea  Lattitude Longtitude             Regionname  \\\n",
       "0          Yarra City Council  -37.83610  144.99660  Northern Metropolitan   \n",
       "1          Yarra City Council  -37.80792  144.99508  Northern Metropolitan   \n",
       "2          Yarra City Council  -37.80124  144.99459  Northern Metropolitan   \n",
       "3  Moonee Valley City Council  -37.72285  144.87539   Western Metropolitan   \n",
       "4  Moonee Valley City Council  -37.71754  144.87704   Western Metropolitan   \n",
       "\n",
       "   Propertycount       id         Price  \n",
       "0         4019.0  30130.0  9.003098e+05  \n",
       "1         4019.0  18311.0  1.454189e+06  \n",
       "2         4019.0  18934.0  1.307728e+06  \n",
       "3         3464.0   1824.0  7.663721e+05  \n",
       "4         3464.0  31339.0  7.278203e+05  \n",
       "\n",
       "[5 rows x 22 columns]"
      ]
     },
     "execution_count": 31,
     "metadata": {},
     "output_type": "execute_result"
    }
   ],
   "source": [
    "test_new.head()"
   ]
  },
  {
   "cell_type": "code",
   "execution_count": 32,
   "id": "01b8b5a1",
   "metadata": {},
   "outputs": [],
   "source": [
    "test_new_id_price = test_new[['id','Price']]"
   ]
  },
  {
   "cell_type": "code",
   "execution_count": 33,
   "id": "f5198c95",
   "metadata": {
    "collapsed": true
   },
   "outputs": [
    {
     "name": "stderr",
     "output_type": "stream",
     "text": [
      "C:\\Users\\ev708\\AppData\\Local\\Temp\\ipykernel_9948\\2820662702.py:1: SettingWithCopyWarning: \n",
      "A value is trying to be set on a copy of a slice from a DataFrame.\n",
      "Try using .loc[row_indexer,col_indexer] = value instead\n",
      "\n",
      "See the caveats in the documentation: https://pandas.pydata.org/pandas-docs/stable/user_guide/indexing.html#returning-a-view-versus-a-copy\n",
      "  test_new_id_price['id'] = test_new_id_price['id'].astype(int)\n"
     ]
    },
    {
     "data": {
      "text/html": [
       "<div>\n",
       "<style scoped>\n",
       "    .dataframe tbody tr th:only-of-type {\n",
       "        vertical-align: middle;\n",
       "    }\n",
       "\n",
       "    .dataframe tbody tr th {\n",
       "        vertical-align: top;\n",
       "    }\n",
       "\n",
       "    .dataframe thead th {\n",
       "        text-align: right;\n",
       "    }\n",
       "</style>\n",
       "<table border=\"1\" class=\"dataframe\">\n",
       "  <thead>\n",
       "    <tr style=\"text-align: right;\">\n",
       "      <th></th>\n",
       "      <th>id</th>\n",
       "      <th>Price</th>\n",
       "    </tr>\n",
       "  </thead>\n",
       "  <tbody>\n",
       "    <tr>\n",
       "      <th>0</th>\n",
       "      <td>30130</td>\n",
       "      <td>9.003098e+05</td>\n",
       "    </tr>\n",
       "    <tr>\n",
       "      <th>1</th>\n",
       "      <td>18311</td>\n",
       "      <td>1.454189e+06</td>\n",
       "    </tr>\n",
       "    <tr>\n",
       "      <th>2</th>\n",
       "      <td>18934</td>\n",
       "      <td>1.307728e+06</td>\n",
       "    </tr>\n",
       "    <tr>\n",
       "      <th>3</th>\n",
       "      <td>1824</td>\n",
       "      <td>7.663721e+05</td>\n",
       "    </tr>\n",
       "    <tr>\n",
       "      <th>4</th>\n",
       "      <td>31339</td>\n",
       "      <td>7.278203e+05</td>\n",
       "    </tr>\n",
       "    <tr>\n",
       "      <th>...</th>\n",
       "      <td>...</td>\n",
       "      <td>...</td>\n",
       "    </tr>\n",
       "    <tr>\n",
       "      <th>8813</th>\n",
       "      <td>11120</td>\n",
       "      <td>1.276129e+06</td>\n",
       "    </tr>\n",
       "    <tr>\n",
       "      <th>8814</th>\n",
       "      <td>3950</td>\n",
       "      <td>7.540082e+05</td>\n",
       "    </tr>\n",
       "    <tr>\n",
       "      <th>8815</th>\n",
       "      <td>2209</td>\n",
       "      <td>5.800789e+05</td>\n",
       "    </tr>\n",
       "    <tr>\n",
       "      <th>8816</th>\n",
       "      <td>23872</td>\n",
       "      <td>1.007986e+06</td>\n",
       "    </tr>\n",
       "    <tr>\n",
       "      <th>8817</th>\n",
       "      <td>8572</td>\n",
       "      <td>7.797354e+05</td>\n",
       "    </tr>\n",
       "  </tbody>\n",
       "</table>\n",
       "<p>8818 rows × 2 columns</p>\n",
       "</div>"
      ],
      "text/plain": [
       "         id         Price\n",
       "0     30130  9.003098e+05\n",
       "1     18311  1.454189e+06\n",
       "2     18934  1.307728e+06\n",
       "3      1824  7.663721e+05\n",
       "4     31339  7.278203e+05\n",
       "...     ...           ...\n",
       "8813  11120  1.276129e+06\n",
       "8814   3950  7.540082e+05\n",
       "8815   2209  5.800789e+05\n",
       "8816  23872  1.007986e+06\n",
       "8817   8572  7.797354e+05\n",
       "\n",
       "[8818 rows x 2 columns]"
      ]
     },
     "execution_count": 33,
     "metadata": {},
     "output_type": "execute_result"
    }
   ],
   "source": [
    "test_new_id_price['id'] = test_new_id_price['id'].astype(int)\n",
    "test_new_id_price"
   ]
  },
  {
   "cell_type": "code",
   "execution_count": 34,
   "id": "4131a147",
   "metadata": {},
   "outputs": [],
   "source": [
    "test_new_id_price.to_csv('my_sub_new.csv', index=False)"
   ]
  },
  {
   "cell_type": "code",
   "execution_count": 234,
   "id": "909794aa",
   "metadata": {},
   "outputs": [],
   "source": [
    "test_ = pd.read_csv('D:/ds/leopard-challenge/my_sub_new.csv')"
   ]
  },
  {
   "cell_type": "code",
   "execution_count": 235,
   "id": "47136ba0",
   "metadata": {},
   "outputs": [
    {
     "data": {
      "text/html": [
       "<div>\n",
       "<style scoped>\n",
       "    .dataframe tbody tr th:only-of-type {\n",
       "        vertical-align: middle;\n",
       "    }\n",
       "\n",
       "    .dataframe tbody tr th {\n",
       "        vertical-align: top;\n",
       "    }\n",
       "\n",
       "    .dataframe thead th {\n",
       "        text-align: right;\n",
       "    }\n",
       "</style>\n",
       "<table border=\"1\" class=\"dataframe\">\n",
       "  <thead>\n",
       "    <tr style=\"text-align: right;\">\n",
       "      <th></th>\n",
       "      <th>id</th>\n",
       "      <th>Price</th>\n",
       "    </tr>\n",
       "  </thead>\n",
       "  <tbody>\n",
       "    <tr>\n",
       "      <th>0</th>\n",
       "      <td>30130</td>\n",
       "      <td>8.877361e+05</td>\n",
       "    </tr>\n",
       "    <tr>\n",
       "      <th>1</th>\n",
       "      <td>18311</td>\n",
       "      <td>1.399765e+06</td>\n",
       "    </tr>\n",
       "    <tr>\n",
       "      <th>2</th>\n",
       "      <td>18934</td>\n",
       "      <td>1.283037e+06</td>\n",
       "    </tr>\n",
       "    <tr>\n",
       "      <th>3</th>\n",
       "      <td>1824</td>\n",
       "      <td>7.740891e+05</td>\n",
       "    </tr>\n",
       "    <tr>\n",
       "      <th>4</th>\n",
       "      <td>31339</td>\n",
       "      <td>7.637507e+05</td>\n",
       "    </tr>\n",
       "    <tr>\n",
       "      <th>...</th>\n",
       "      <td>...</td>\n",
       "      <td>...</td>\n",
       "    </tr>\n",
       "    <tr>\n",
       "      <th>8813</th>\n",
       "      <td>11120</td>\n",
       "      <td>1.231989e+06</td>\n",
       "    </tr>\n",
       "    <tr>\n",
       "      <th>8814</th>\n",
       "      <td>3950</td>\n",
       "      <td>6.784068e+05</td>\n",
       "    </tr>\n",
       "    <tr>\n",
       "      <th>8815</th>\n",
       "      <td>2209</td>\n",
       "      <td>6.244651e+05</td>\n",
       "    </tr>\n",
       "    <tr>\n",
       "      <th>8816</th>\n",
       "      <td>23872</td>\n",
       "      <td>1.034314e+06</td>\n",
       "    </tr>\n",
       "    <tr>\n",
       "      <th>8817</th>\n",
       "      <td>8572</td>\n",
       "      <td>7.954555e+05</td>\n",
       "    </tr>\n",
       "  </tbody>\n",
       "</table>\n",
       "<p>8818 rows × 2 columns</p>\n",
       "</div>"
      ],
      "text/plain": [
       "         id         Price\n",
       "0     30130  8.877361e+05\n",
       "1     18311  1.399765e+06\n",
       "2     18934  1.283037e+06\n",
       "3      1824  7.740891e+05\n",
       "4     31339  7.637507e+05\n",
       "...     ...           ...\n",
       "8813  11120  1.231989e+06\n",
       "8814   3950  6.784068e+05\n",
       "8815   2209  6.244651e+05\n",
       "8816  23872  1.034314e+06\n",
       "8817   8572  7.954555e+05\n",
       "\n",
       "[8818 rows x 2 columns]"
      ]
     },
     "execution_count": 235,
     "metadata": {},
     "output_type": "execute_result"
    }
   ],
   "source": [
    "test_"
   ]
  },
  {
   "cell_type": "code",
   "execution_count": null,
   "id": "d3c689e7",
   "metadata": {},
   "outputs": [],
   "source": []
  }
 ],
 "metadata": {
  "kernelspec": {
   "display_name": "Python 3 (ipykernel)",
   "language": "python",
   "name": "python3"
  },
  "language_info": {
   "codemirror_mode": {
    "name": "ipython",
    "version": 3
   },
   "file_extension": ".py",
   "mimetype": "text/x-python",
   "name": "python",
   "nbconvert_exporter": "python",
   "pygments_lexer": "ipython3",
   "version": "3.10.4"
  }
 },
 "nbformat": 4,
 "nbformat_minor": 5
}
