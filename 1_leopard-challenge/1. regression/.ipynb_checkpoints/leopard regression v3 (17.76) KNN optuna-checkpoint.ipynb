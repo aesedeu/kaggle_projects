{
 "cells": [
  {
   "cell_type": "code",
   "execution_count": 1,
   "id": "b5ed3fac",
   "metadata": {},
   "outputs": [],
   "source": [
    "import pandas as pd\n",
    "from sklearn.impute import KNNImputer\n",
    "import numpy as np"
   ]
  },
  {
   "cell_type": "code",
   "execution_count": 195,
   "id": "28156a3f",
   "metadata": {},
   "outputs": [],
   "source": [
    "df = pd.read_csv('D:/ds/leopard-challenge/train.csv')\n",
    "df_test = pd.read_csv('D:/ds/leopard-challenge/test.csv')"
   ]
  },
  {
   "cell_type": "markdown",
   "id": "02ade998",
   "metadata": {},
   "source": [
    "# Предобработка данных и избавление от NaN"
   ]
  },
  {
   "cell_type": "markdown",
   "id": "f716f58e",
   "metadata": {},
   "source": [
    "### Тренировочный датасет 'df'"
   ]
  },
  {
   "cell_type": "code",
   "execution_count": 105,
   "id": "7bcc9def",
   "metadata": {
    "collapsed": true
   },
   "outputs": [
    {
     "data": {
      "text/html": [
       "<div>\n",
       "<style scoped>\n",
       "    .dataframe tbody tr th:only-of-type {\n",
       "        vertical-align: middle;\n",
       "    }\n",
       "\n",
       "    .dataframe tbody tr th {\n",
       "        vertical-align: top;\n",
       "    }\n",
       "\n",
       "    .dataframe thead th {\n",
       "        text-align: right;\n",
       "    }\n",
       "</style>\n",
       "<table border=\"1\" class=\"dataframe\">\n",
       "  <thead>\n",
       "    <tr style=\"text-align: right;\">\n",
       "      <th></th>\n",
       "      <th>index</th>\n",
       "      <th>0</th>\n",
       "    </tr>\n",
       "  </thead>\n",
       "  <tbody>\n",
       "    <tr>\n",
       "      <th>0</th>\n",
       "      <td>BuildingArea</td>\n",
       "      <td>10623</td>\n",
       "    </tr>\n",
       "    <tr>\n",
       "      <th>1</th>\n",
       "      <td>YearBuilt</td>\n",
       "      <td>9429</td>\n",
       "    </tr>\n",
       "    <tr>\n",
       "      <th>2</th>\n",
       "      <td>Landsize</td>\n",
       "      <td>4794</td>\n",
       "    </tr>\n",
       "    <tr>\n",
       "      <th>3</th>\n",
       "      <td>Car</td>\n",
       "      <td>3575</td>\n",
       "    </tr>\n",
       "    <tr>\n",
       "      <th>4</th>\n",
       "      <td>Bathroom</td>\n",
       "      <td>3470</td>\n",
       "    </tr>\n",
       "    <tr>\n",
       "      <th>5</th>\n",
       "      <td>Bedroom2</td>\n",
       "      <td>3468</td>\n",
       "    </tr>\n",
       "    <tr>\n",
       "      <th>6</th>\n",
       "      <td>Longtitude</td>\n",
       "      <td>3332</td>\n",
       "    </tr>\n",
       "    <tr>\n",
       "      <th>7</th>\n",
       "      <td>Lattitude</td>\n",
       "      <td>3332</td>\n",
       "    </tr>\n",
       "    <tr>\n",
       "      <th>8</th>\n",
       "      <td>Propertycount</td>\n",
       "      <td>1</td>\n",
       "    </tr>\n",
       "    <tr>\n",
       "      <th>9</th>\n",
       "      <td>Regionname</td>\n",
       "      <td>1</td>\n",
       "    </tr>\n",
       "    <tr>\n",
       "      <th>10</th>\n",
       "      <td>CouncilArea</td>\n",
       "      <td>1</td>\n",
       "    </tr>\n",
       "    <tr>\n",
       "      <th>11</th>\n",
       "      <td>Suburb</td>\n",
       "      <td>0</td>\n",
       "    </tr>\n",
       "    <tr>\n",
       "      <th>12</th>\n",
       "      <td>Address</td>\n",
       "      <td>0</td>\n",
       "    </tr>\n",
       "    <tr>\n",
       "      <th>13</th>\n",
       "      <td>Postcode</td>\n",
       "      <td>0</td>\n",
       "    </tr>\n",
       "    <tr>\n",
       "      <th>14</th>\n",
       "      <td>Distance</td>\n",
       "      <td>0</td>\n",
       "    </tr>\n",
       "    <tr>\n",
       "      <th>15</th>\n",
       "      <td>Date</td>\n",
       "      <td>0</td>\n",
       "    </tr>\n",
       "    <tr>\n",
       "      <th>16</th>\n",
       "      <td>SellerG</td>\n",
       "      <td>0</td>\n",
       "    </tr>\n",
       "    <tr>\n",
       "      <th>17</th>\n",
       "      <td>Method</td>\n",
       "      <td>0</td>\n",
       "    </tr>\n",
       "    <tr>\n",
       "      <th>18</th>\n",
       "      <td>Price</td>\n",
       "      <td>0</td>\n",
       "    </tr>\n",
       "    <tr>\n",
       "      <th>19</th>\n",
       "      <td>Type</td>\n",
       "      <td>0</td>\n",
       "    </tr>\n",
       "    <tr>\n",
       "      <th>20</th>\n",
       "      <td>Rooms</td>\n",
       "      <td>0</td>\n",
       "    </tr>\n",
       "    <tr>\n",
       "      <th>21</th>\n",
       "      <td>id</td>\n",
       "      <td>0</td>\n",
       "    </tr>\n",
       "  </tbody>\n",
       "</table>\n",
       "</div>"
      ],
      "text/plain": [
       "            index      0\n",
       "0    BuildingArea  10623\n",
       "1       YearBuilt   9429\n",
       "2        Landsize   4794\n",
       "3             Car   3575\n",
       "4        Bathroom   3470\n",
       "5        Bedroom2   3468\n",
       "6      Longtitude   3332\n",
       "7       Lattitude   3332\n",
       "8   Propertycount      1\n",
       "9      Regionname      1\n",
       "10    CouncilArea      1\n",
       "11         Suburb      0\n",
       "12        Address      0\n",
       "13       Postcode      0\n",
       "14       Distance      0\n",
       "15           Date      0\n",
       "16        SellerG      0\n",
       "17         Method      0\n",
       "18          Price      0\n",
       "19           Type      0\n",
       "20          Rooms      0\n",
       "21             id      0"
      ]
     },
     "execution_count": 105,
     "metadata": {},
     "output_type": "execute_result"
    }
   ],
   "source": [
    "lt = pd.DataFrame(df.isna().sum().sort_values(ascending=False)).reset_index()\n",
    "lt"
   ]
  },
  {
   "cell_type": "code",
   "execution_count": 196,
   "id": "cc4a588d",
   "metadata": {},
   "outputs": [
    {
     "data": {
      "text/plain": [
       "(array(['BuildingArea', 'YearBuilt', 'Landsize', 'Car', 'Bathroom',\n",
       "        'Bedroom2', 'Propertycount'], dtype=object),\n",
       " array(['Longtitude', 'Lattitude'], dtype=object))"
      ]
     },
     "execution_count": 196,
     "metadata": {},
     "output_type": "execute_result"
    }
   ],
   "source": [
    "knn1 = KNNImputer(n_neighbors=2)\n",
    "knn1.fit(df[['BuildingArea','YearBuilt',\n",
    "            'Landsize','Car','Bathroom',\n",
    "            'Bedroom2',\n",
    "            'Propertycount']])\n",
    "\n",
    "knn2= KNNImputer(n_neighbors=2)\n",
    "knn2.fit(df[['Longtitude','Lattitude']])\n",
    "\n",
    "knn1.feature_names_in_, knn2.feature_names_in_"
   ]
  },
  {
   "cell_type": "code",
   "execution_count": 197,
   "id": "e950772d",
   "metadata": {},
   "outputs": [],
   "source": [
    "data1_df = knn1.transform(df[['BuildingArea','YearBuilt',\n",
    "            'Landsize','Car','Bathroom',\n",
    "            'Bedroom2',\n",
    "            'Propertycount']]).round(0)\n",
    "\n",
    "data2_df = knn2.transform(df[['Longtitude','Lattitude']])"
   ]
  },
  {
   "cell_type": "code",
   "execution_count": 198,
   "id": "747ce24c",
   "metadata": {},
   "outputs": [],
   "source": [
    "df[['BuildingArea','YearBuilt',\n",
    "            'Landsize','Car','Bathroom',\n",
    "            'Bedroom2',\n",
    "            'Propertycount']] = data1_df\n",
    "\n",
    "df[['Longtitude','Lattitude']] = data2_df"
   ]
  },
  {
   "cell_type": "code",
   "execution_count": 199,
   "id": "bcba36a0",
   "metadata": {},
   "outputs": [
    {
     "name": "stderr",
     "output_type": "stream",
     "text": [
      "C:\\Users\\ev708\\AppData\\Local\\Temp\\ipykernel_15820\\1040708776.py:1: FutureWarning: In a future version of pandas all arguments of DataFrame.any and Series.any will be keyword-only.\n",
      "  df[df.isnull().any(1)]\n"
     ]
    },
    {
     "data": {
      "text/html": [
       "<div>\n",
       "<style scoped>\n",
       "    .dataframe tbody tr th:only-of-type {\n",
       "        vertical-align: middle;\n",
       "    }\n",
       "\n",
       "    .dataframe tbody tr th {\n",
       "        vertical-align: top;\n",
       "    }\n",
       "\n",
       "    .dataframe thead th {\n",
       "        text-align: right;\n",
       "    }\n",
       "</style>\n",
       "<table border=\"1\" class=\"dataframe\">\n",
       "  <thead>\n",
       "    <tr style=\"text-align: right;\">\n",
       "      <th></th>\n",
       "      <th>Suburb</th>\n",
       "      <th>Address</th>\n",
       "      <th>Rooms</th>\n",
       "      <th>Type</th>\n",
       "      <th>Price</th>\n",
       "      <th>Method</th>\n",
       "      <th>SellerG</th>\n",
       "      <th>Date</th>\n",
       "      <th>Distance</th>\n",
       "      <th>Postcode</th>\n",
       "      <th>...</th>\n",
       "      <th>Car</th>\n",
       "      <th>Landsize</th>\n",
       "      <th>BuildingArea</th>\n",
       "      <th>YearBuilt</th>\n",
       "      <th>CouncilArea</th>\n",
       "      <th>Lattitude</th>\n",
       "      <th>Longtitude</th>\n",
       "      <th>Regionname</th>\n",
       "      <th>Propertycount</th>\n",
       "      <th>id</th>\n",
       "    </tr>\n",
       "  </thead>\n",
       "  <tbody>\n",
       "    <tr>\n",
       "      <th>14406</th>\n",
       "      <td>Footscray</td>\n",
       "      <td>2/16 Stafford St</td>\n",
       "      <td>2</td>\n",
       "      <td>u</td>\n",
       "      <td>710000.0</td>\n",
       "      <td>S</td>\n",
       "      <td>Jas</td>\n",
       "      <td>15/07/2017</td>\n",
       "      <td>5.1</td>\n",
       "      <td>3011.0</td>\n",
       "      <td>...</td>\n",
       "      <td>2.0</td>\n",
       "      <td>559.0</td>\n",
       "      <td>151.0</td>\n",
       "      <td>1966.0</td>\n",
       "      <td>NaN</td>\n",
       "      <td>-37.809872</td>\n",
       "      <td>144.996486</td>\n",
       "      <td>NaN</td>\n",
       "      <td>7519.0</td>\n",
       "      <td>21235</td>\n",
       "    </tr>\n",
       "  </tbody>\n",
       "</table>\n",
       "<p>1 rows × 22 columns</p>\n",
       "</div>"
      ],
      "text/plain": [
       "          Suburb           Address  Rooms Type     Price Method SellerG  \\\n",
       "14406  Footscray  2/16 Stafford St      2    u  710000.0      S     Jas   \n",
       "\n",
       "             Date  Distance  Postcode  ...  Car  Landsize  BuildingArea  \\\n",
       "14406  15/07/2017       5.1    3011.0  ...  2.0     559.0         151.0   \n",
       "\n",
       "       YearBuilt  CouncilArea  Lattitude  Longtitude  Regionname  \\\n",
       "14406     1966.0          NaN -37.809872  144.996486         NaN   \n",
       "\n",
       "       Propertycount     id  \n",
       "14406         7519.0  21235  \n",
       "\n",
       "[1 rows x 22 columns]"
      ]
     },
     "execution_count": 199,
     "metadata": {},
     "output_type": "execute_result"
    }
   ],
   "source": [
    "df[df.isnull().any(1)]"
   ]
  },
  {
   "cell_type": "code",
   "execution_count": 200,
   "id": "f341abe3",
   "metadata": {},
   "outputs": [],
   "source": [
    "df['CouncilArea'] = df['CouncilArea'].transform(lambda x: x.fillna('no_info'))\n",
    "df['Regionname'] = df['Regionname'].transform(lambda x: x.fillna('no_info'))"
   ]
  },
  {
   "cell_type": "code",
   "execution_count": 201,
   "id": "c4073fb7",
   "metadata": {
    "collapsed": true
   },
   "outputs": [
    {
     "data": {
      "text/plain": [
       "Suburb                  Footscray\n",
       "Address          2/16 Stafford St\n",
       "Rooms                           2\n",
       "Type                            u\n",
       "Price                    710000.0\n",
       "Method                          S\n",
       "SellerG                       Jas\n",
       "Date                   15/07/2017\n",
       "Distance                      5.1\n",
       "Postcode                   3011.0\n",
       "Bedroom2                      3.0\n",
       "Bathroom                      2.0\n",
       "Car                           2.0\n",
       "Landsize                    559.0\n",
       "BuildingArea                151.0\n",
       "YearBuilt                  1966.0\n",
       "CouncilArea               no_info\n",
       "Lattitude              -37.809872\n",
       "Longtitude             144.996486\n",
       "Regionname                no_info\n",
       "Propertycount              7519.0\n",
       "id                          21235\n",
       "Name: 14406, dtype: object"
      ]
     },
     "execution_count": 201,
     "metadata": {},
     "output_type": "execute_result"
    }
   ],
   "source": [
    "df.iloc[14406]"
   ]
  },
  {
   "cell_type": "code",
   "execution_count": 202,
   "id": "ad2eec08",
   "metadata": {
    "collapsed": true
   },
   "outputs": [
    {
     "data": {
      "text/plain": [
       "Suburb           0.0\n",
       "Address          0.0\n",
       "Rooms            0.0\n",
       "Type             0.0\n",
       "Price            0.0\n",
       "Method           0.0\n",
       "SellerG          0.0\n",
       "Date             0.0\n",
       "Distance         0.0\n",
       "Postcode         0.0\n",
       "Bedroom2         0.0\n",
       "Bathroom         0.0\n",
       "Car              0.0\n",
       "Landsize         0.0\n",
       "BuildingArea     0.0\n",
       "YearBuilt        0.0\n",
       "CouncilArea      0.0\n",
       "Lattitude        0.0\n",
       "Longtitude       0.0\n",
       "Regionname       0.0\n",
       "Propertycount    0.0\n",
       "id               0.0\n",
       "dtype: float64"
      ]
     },
     "execution_count": 202,
     "metadata": {},
     "output_type": "execute_result"
    }
   ],
   "source": [
    "df.isna().mean()"
   ]
  },
  {
   "cell_type": "markdown",
   "id": "4681d250",
   "metadata": {},
   "source": [
    "### Обучающий датасет 'df_test'"
   ]
  },
  {
   "cell_type": "code",
   "execution_count": 203,
   "id": "f0b3a94a",
   "metadata": {},
   "outputs": [
    {
     "data": {
      "text/plain": [
       "BuildingArea     0.673169\n",
       "YearBuilt        0.647086\n",
       "Landsize         0.504990\n",
       "Car              0.366977\n",
       "Bathroom         0.336131\n",
       "Bedroom2         0.335677\n",
       "Longtitude       0.330007\n",
       "Lattitude        0.330007\n",
       "Propertycount    0.000227\n",
       "Regionname       0.000227\n",
       "CouncilArea      0.000227\n",
       "Distance         0.000113\n",
       "Postcode         0.000113\n",
       "Suburb           0.000000\n",
       "Address          0.000000\n",
       "Date             0.000000\n",
       "SellerG          0.000000\n",
       "Method           0.000000\n",
       "Type             0.000000\n",
       "Rooms            0.000000\n",
       "id               0.000000\n",
       "dtype: float64"
      ]
     },
     "execution_count": 203,
     "metadata": {},
     "output_type": "execute_result"
    }
   ],
   "source": [
    "df_test.isna().mean().sort_values(ascending=False)"
   ]
  },
  {
   "cell_type": "code",
   "execution_count": 204,
   "id": "8f33debb",
   "metadata": {},
   "outputs": [
    {
     "data": {
      "text/plain": [
       "(array(['BuildingArea', 'YearBuilt', 'Landsize', 'Car', 'Bathroom',\n",
       "        'Bedroom2', 'Propertycount', 'Distance', 'Postcode'], dtype=object),\n",
       " array(['Longtitude', 'Lattitude'], dtype=object))"
      ]
     },
     "execution_count": 204,
     "metadata": {},
     "output_type": "execute_result"
    }
   ],
   "source": [
    "knn3 = KNNImputer(n_neighbors=2)\n",
    "knn3.fit(df_test[['BuildingArea','YearBuilt',\n",
    "            'Landsize','Car','Bathroom',\n",
    "            'Bedroom2',\n",
    "            'Propertycount','Distance','Postcode']])\n",
    "\n",
    "knn4= KNNImputer(n_neighbors=2)\n",
    "knn4.fit(df_test[['Longtitude','Lattitude']])\n",
    "\n",
    "knn3.feature_names_in_, knn4.feature_names_in_"
   ]
  },
  {
   "cell_type": "code",
   "execution_count": 205,
   "id": "96dd6ea3",
   "metadata": {},
   "outputs": [],
   "source": [
    "data1_df_test = knn3.transform(df_test[['BuildingArea','YearBuilt',\n",
    "            'Landsize','Car','Bathroom',\n",
    "            'Bedroom2',\n",
    "            'Propertycount','Distance','Postcode']]).round(0)\n",
    "\n",
    "data2_df_test = knn4.transform(df_test[['Longtitude','Lattitude']])"
   ]
  },
  {
   "cell_type": "code",
   "execution_count": 206,
   "id": "6aa4a9fc",
   "metadata": {},
   "outputs": [],
   "source": [
    "df_test[['BuildingArea','YearBuilt',\n",
    "            'Landsize','Car','Bathroom',\n",
    "            'Bedroom2',\n",
    "            'Propertycount','Distance','Postcode']] = data1_df_test\n",
    "\n",
    "df_test[['Longtitude','Lattitude']] = data2_df_test"
   ]
  },
  {
   "cell_type": "code",
   "execution_count": 207,
   "id": "621754b4",
   "metadata": {},
   "outputs": [
    {
     "name": "stderr",
     "output_type": "stream",
     "text": [
      "C:\\Users\\ev708\\AppData\\Local\\Temp\\ipykernel_15820\\1342770330.py:1: FutureWarning: In a future version of pandas all arguments of DataFrame.any and Series.any will be keyword-only.\n",
      "  df_test[df_test.isnull().any(1)]\n"
     ]
    },
    {
     "data": {
      "text/html": [
       "<div>\n",
       "<style scoped>\n",
       "    .dataframe tbody tr th:only-of-type {\n",
       "        vertical-align: middle;\n",
       "    }\n",
       "\n",
       "    .dataframe tbody tr th {\n",
       "        vertical-align: top;\n",
       "    }\n",
       "\n",
       "    .dataframe thead th {\n",
       "        text-align: right;\n",
       "    }\n",
       "</style>\n",
       "<table border=\"1\" class=\"dataframe\">\n",
       "  <thead>\n",
       "    <tr style=\"text-align: right;\">\n",
       "      <th></th>\n",
       "      <th>Suburb</th>\n",
       "      <th>Address</th>\n",
       "      <th>Rooms</th>\n",
       "      <th>Type</th>\n",
       "      <th>Method</th>\n",
       "      <th>SellerG</th>\n",
       "      <th>Date</th>\n",
       "      <th>Distance</th>\n",
       "      <th>Postcode</th>\n",
       "      <th>Bedroom2</th>\n",
       "      <th>...</th>\n",
       "      <th>Car</th>\n",
       "      <th>Landsize</th>\n",
       "      <th>BuildingArea</th>\n",
       "      <th>YearBuilt</th>\n",
       "      <th>CouncilArea</th>\n",
       "      <th>Lattitude</th>\n",
       "      <th>Longtitude</th>\n",
       "      <th>Regionname</th>\n",
       "      <th>Propertycount</th>\n",
       "      <th>id</th>\n",
       "    </tr>\n",
       "  </thead>\n",
       "  <tbody>\n",
       "    <tr>\n",
       "      <th>2634</th>\n",
       "      <td>Camberwell</td>\n",
       "      <td>2/3 Kingsley St</td>\n",
       "      <td>2</td>\n",
       "      <td>h</td>\n",
       "      <td>VB</td>\n",
       "      <td>Jellis</td>\n",
       "      <td>11/11/2017</td>\n",
       "      <td>8.0</td>\n",
       "      <td>3124.0</td>\n",
       "      <td>4.0</td>\n",
       "      <td>...</td>\n",
       "      <td>0.0</td>\n",
       "      <td>594.0</td>\n",
       "      <td>240.0</td>\n",
       "      <td>1930.0</td>\n",
       "      <td>NaN</td>\n",
       "      <td>-37.799458</td>\n",
       "      <td>144.997531</td>\n",
       "      <td>NaN</td>\n",
       "      <td>8920.0</td>\n",
       "      <td>15921</td>\n",
       "    </tr>\n",
       "    <tr>\n",
       "      <th>4628</th>\n",
       "      <td>Fawkner Lot</td>\n",
       "      <td>1/3 Brian St</td>\n",
       "      <td>3</td>\n",
       "      <td>h</td>\n",
       "      <td>SP</td>\n",
       "      <td>Brad</td>\n",
       "      <td>6/01/2018</td>\n",
       "      <td>13.0</td>\n",
       "      <td>3128.0</td>\n",
       "      <td>3.0</td>\n",
       "      <td>...</td>\n",
       "      <td>2.0</td>\n",
       "      <td>701.0</td>\n",
       "      <td>172.0</td>\n",
       "      <td>1969.0</td>\n",
       "      <td>NaN</td>\n",
       "      <td>-37.799458</td>\n",
       "      <td>144.997531</td>\n",
       "      <td>NaN</td>\n",
       "      <td>7668.0</td>\n",
       "      <td>33262</td>\n",
       "    </tr>\n",
       "  </tbody>\n",
       "</table>\n",
       "<p>2 rows × 21 columns</p>\n",
       "</div>"
      ],
      "text/plain": [
       "           Suburb          Address  Rooms Type Method SellerG        Date  \\\n",
       "2634   Camberwell  2/3 Kingsley St      2    h     VB  Jellis  11/11/2017   \n",
       "4628  Fawkner Lot     1/3 Brian St      3    h     SP    Brad   6/01/2018   \n",
       "\n",
       "      Distance  Postcode  Bedroom2  ...  Car  Landsize  BuildingArea  \\\n",
       "2634       8.0    3124.0       4.0  ...  0.0     594.0         240.0   \n",
       "4628      13.0    3128.0       3.0  ...  2.0     701.0         172.0   \n",
       "\n",
       "      YearBuilt  CouncilArea  Lattitude  Longtitude  Regionname Propertycount  \\\n",
       "2634     1930.0          NaN -37.799458  144.997531         NaN        8920.0   \n",
       "4628     1969.0          NaN -37.799458  144.997531         NaN        7668.0   \n",
       "\n",
       "         id  \n",
       "2634  15921  \n",
       "4628  33262  \n",
       "\n",
       "[2 rows x 21 columns]"
      ]
     },
     "execution_count": 207,
     "metadata": {},
     "output_type": "execute_result"
    }
   ],
   "source": [
    "df_test[df_test.isnull().any(1)]"
   ]
  },
  {
   "cell_type": "code",
   "execution_count": 210,
   "id": "23bc3d97",
   "metadata": {},
   "outputs": [],
   "source": [
    "df_test['CouncilArea'] = df_test['CouncilArea'].transform(lambda x: x.fillna('no_info'))\n",
    "df_test['Regionname'] = df_test['Regionname'].transform(lambda x: x.fillna('no_info'))"
   ]
  },
  {
   "cell_type": "code",
   "execution_count": 211,
   "id": "7ea01957",
   "metadata": {
    "collapsed": true
   },
   "outputs": [
    {
     "data": {
      "text/plain": [
       "Suburb            Fawkner Lot\n",
       "Address          1/3 Brian St\n",
       "Rooms                       3\n",
       "Type                        h\n",
       "Method                     SP\n",
       "SellerG                  Brad\n",
       "Date                6/01/2018\n",
       "Distance                 13.0\n",
       "Postcode               3128.0\n",
       "Bedroom2                  3.0\n",
       "Bathroom                  2.0\n",
       "Car                       2.0\n",
       "Landsize                701.0\n",
       "BuildingArea            172.0\n",
       "YearBuilt              1969.0\n",
       "CouncilArea           no_info\n",
       "Lattitude          -37.799458\n",
       "Longtitude         144.997531\n",
       "Regionname            no_info\n",
       "Propertycount          7668.0\n",
       "id                      33262\n",
       "Name: 4628, dtype: object"
      ]
     },
     "execution_count": 211,
     "metadata": {},
     "output_type": "execute_result"
    }
   ],
   "source": [
    "df_test.iloc[4628]"
   ]
  },
  {
   "cell_type": "code",
   "execution_count": 212,
   "id": "4b501ff4",
   "metadata": {
    "collapsed": true
   },
   "outputs": [
    {
     "data": {
      "text/plain": [
       "Suburb           0.0\n",
       "Address          0.0\n",
       "Rooms            0.0\n",
       "Type             0.0\n",
       "Method           0.0\n",
       "SellerG          0.0\n",
       "Date             0.0\n",
       "Distance         0.0\n",
       "Postcode         0.0\n",
       "Bedroom2         0.0\n",
       "Bathroom         0.0\n",
       "Car              0.0\n",
       "Landsize         0.0\n",
       "BuildingArea     0.0\n",
       "YearBuilt        0.0\n",
       "CouncilArea      0.0\n",
       "Lattitude        0.0\n",
       "Longtitude       0.0\n",
       "Regionname       0.0\n",
       "Propertycount    0.0\n",
       "id               0.0\n",
       "dtype: float64"
      ]
     },
     "execution_count": 212,
     "metadata": {},
     "output_type": "execute_result"
    }
   ],
   "source": [
    "df_test.isna().mean()"
   ]
  },
  {
   "cell_type": "markdown",
   "id": "c632bf8e",
   "metadata": {},
   "source": [
    "# Собираем модель catboost"
   ]
  },
  {
   "cell_type": "code",
   "execution_count": 213,
   "id": "94c53fd6",
   "metadata": {},
   "outputs": [],
   "source": [
    "from sklearn.model_selection import train_test_split\n",
    "train, test =  train_test_split(df,test_size=0.2,random_state=42)"
   ]
  },
  {
   "cell_type": "code",
   "execution_count": 214,
   "id": "8afce52a",
   "metadata": {},
   "outputs": [],
   "source": [
    "y  = ['Price']\n",
    "X = list(df.drop(columns = ['Price']).columns)\n",
    "cat_features = list(df.select_dtypes(include = ['object']).columns)"
   ]
  },
  {
   "cell_type": "code",
   "execution_count": 216,
   "id": "35865e17",
   "metadata": {},
   "outputs": [],
   "source": [
    "from catboost import Pool\n",
    "\n",
    "train_data = Pool(data=train[X], \n",
    "                  label=train[y], \n",
    "                  cat_features=cat_features)"
   ]
  },
  {
   "cell_type": "code",
   "execution_count": 217,
   "id": "48558f34",
   "metadata": {},
   "outputs": [],
   "source": [
    "def objective(trial):\n",
    "    global train_data\n",
    "\n",
    "    param = {\n",
    "        #'task_type':trial.suggest_categorical(\"task_type\", 'CPU'),\n",
    "        #'devices':trial.suggest_int('devices', 0, 1),\n",
    "        \"n_estimators\": trial.suggest_int(\"n_estimators\", 1000, 4000, 200),\n",
    "        \"max_depth\": trial.suggest_int(\"max_depth\", 2, 10, 1),\n",
    "        \"subsample\": trial.suggest_float(\"subsample\", 0.5, 1.0),\n",
    "        \"l2_leaf_reg\": trial.suggest_float(\"l2_leaf_reg\", 1, 8),\n",
    "        \"random_strength\": trial.suggest_float(\"random_strength\", 0.9, 1.4),\n",
    "        \"learning_rate\": trial.suggest_float(\"eta\", 1e-2, 1e-1, log=True),\n",
    "        \"min_data_in_leaf\": trial.suggest_int(\"min_data_in_leaf\", 3, 5),\n",
    "        \"grow_policy\": trial.suggest_categorical(\"grow_policy\", [\"Lossguide\"]),\n",
    "        #\"boosting_type\": trial.suggest_categorical(\"boosting_type\", [\"Ordered\", \"Plain\"]),\n",
    "        \"eval_metric\": trial.suggest_categorical(\"eval_metric\", [\"MAPE\"]),\n",
    "        \"loss_function\": trial.suggest_categorical(\"loss_function\", [\"MAE\"]),\n",
    "        \"silent\": trial.suggest_categorical(\"silent\", [True]),\n",
    "        #'logging_level': trial.suggest_categorical('logging_level', ['Silent']),\n",
    "    }\n",
    "    \n",
    "    scores = cv(train_data, param, fold_count=5)\n",
    "\n",
    "    return scores['test-MAPE-mean'].values[-1]"
   ]
  },
  {
   "cell_type": "code",
   "execution_count": 218,
   "id": "181e222a",
   "metadata": {},
   "outputs": [
    {
     "name": "stderr",
     "output_type": "stream",
     "text": [
      "C:\\Users\\ev708\\AppData\\Roaming\\Python\\Python310\\site-packages\\tqdm\\auto.py:21: TqdmWarning: IProgress not found. Please update jupyter and ipywidgets. See https://ipywidgets.readthedocs.io/en/stable/user_install.html\n",
      "  from .autonotebook import tqdm as notebook_tqdm\n"
     ]
    }
   ],
   "source": [
    "import optuna\n",
    "from catboost import cv\n",
    "#https://habr.com/ru/articles/704432/"
   ]
  },
  {
   "cell_type": "code",
   "execution_count": 219,
   "id": "df668e17",
   "metadata": {},
   "outputs": [
    {
     "name": "stderr",
     "output_type": "stream",
     "text": [
      "\u001b[32m[I 2023-05-08 16:08:49,892]\u001b[0m A new study created in memory with name: no-name-f653e30f-d9df-453b-b605-7f5a91b05c9d\u001b[0m\n",
      "C:\\Users\\ev708\\AppData\\Local\\Programs\\Python\\Python310\\lib\\site-packages\\optuna\\progress_bar.py:56: ExperimentalWarning: Progress bar is experimental (supported from v1.2.0). The interface can change in the future.\n",
      "  self._init_valid()\n"
     ]
    },
    {
     "name": "stdout",
     "output_type": "stream",
     "text": [
      "CPU times: total: 0 ns\n",
      "Wall time: 0 ns\n"
     ]
    },
    {
     "name": "stderr",
     "output_type": "stream",
     "text": [
      "\r",
      "  0%|                                                                                            | 0/5 [00:00<?, ?it/s]"
     ]
    },
    {
     "name": "stdout",
     "output_type": "stream",
     "text": [
      "Training on fold [0/5]\n",
      "\n",
      "bestTest = 0.1487184573\n",
      "bestIteration = 2510\n",
      "\n",
      "Training on fold [1/5]\n",
      "\n",
      "bestTest = 0.149308341\n",
      "bestIteration = 2578\n",
      "\n",
      "Training on fold [2/5]\n",
      "\n",
      "bestTest = 0.1450523525\n",
      "bestIteration = 2598\n",
      "\n",
      "Training on fold [3/5]\n",
      "\n",
      "bestTest = 0.1483135499\n",
      "bestIteration = 2598\n",
      "\n",
      "Training on fold [4/5]\n"
     ]
    },
    {
     "name": "stderr",
     "output_type": "stream",
     "text": [
      "Best trial: 0. Best value: 0.1475:  20%|█████████                                    | 1/5 [57:25<3:49:40, 3445.08s/it]"
     ]
    },
    {
     "name": "stdout",
     "output_type": "stream",
     "text": [
      "\n",
      "bestTest = 0.1460752824\n",
      "bestIteration = 2599\n",
      "\n",
      "\u001b[32m[I 2023-05-08 17:06:14,980]\u001b[0m Trial 0 finished with value: 0.14750028663783737 and parameters: {'n_estimators': 2600, 'max_depth': 9, 'subsample': 0.9657604834525957, 'l2_leaf_reg': 6.842681517671036, 'random_strength': 1.2108778787973535, 'eta': 0.0174525013605637, 'min_data_in_leaf': 4, 'grow_policy': 'Lossguide', 'eval_metric': 'MAPE', 'loss_function': 'MAE', 'silent': True}. Best is trial 0 with value: 0.14750028663783737.\u001b[0m\n",
      "Training on fold [0/5]\n",
      "\n",
      "bestTest = 0.1729613547\n",
      "bestIteration = 1199\n",
      "\n",
      "Training on fold [1/5]\n",
      "\n",
      "bestTest = 0.17175408\n",
      "bestIteration = 1199\n",
      "\n",
      "Training on fold [2/5]\n",
      "\n",
      "bestTest = 0.1724607987\n",
      "bestIteration = 1199\n",
      "\n",
      "Training on fold [3/5]\n",
      "\n",
      "bestTest = 0.1752881443\n",
      "bestIteration = 1196\n",
      "\n",
      "Training on fold [4/5]\n"
     ]
    },
    {
     "name": "stderr",
     "output_type": "stream",
     "text": [
      "Best trial: 1. Best value: 0.172969:  40%|████████████████▍                        | 2/5 [1:00:05<1:15:38, 1512.98s/it]"
     ]
    },
    {
     "name": "stdout",
     "output_type": "stream",
     "text": [
      "\n",
      "bestTest = 0.1723792853\n",
      "bestIteration = 1199\n",
      "\n",
      "\u001b[32m[I 2023-05-08 17:08:55,485]\u001b[0m Trial 1 finished with value: 0.17296932360918102 and parameters: {'n_estimators': 1200, 'max_depth': 2, 'subsample': 0.6326035947536055, 'l2_leaf_reg': 7.431910761969924, 'random_strength': 0.9220108347639834, 'eta': 0.01621830326259315, 'min_data_in_leaf': 4, 'grow_policy': 'Lossguide', 'eval_metric': 'MAPE', 'loss_function': 'MAE', 'silent': True}. Best is trial 1 with value: 0.17296932360918102.\u001b[0m\n",
      "Training on fold [0/5]\n",
      "\n",
      "bestTest = 0.1500320608\n",
      "bestIteration = 1572\n",
      "\n",
      "Training on fold [1/5]\n",
      "\n",
      "bestTest = 0.1492627189\n",
      "bestIteration = 1588\n",
      "\n",
      "Training on fold [2/5]\n",
      "\n",
      "bestTest = 0.1467939458\n",
      "bestIteration = 1596\n",
      "\n",
      "Training on fold [3/5]\n",
      "\n",
      "bestTest = 0.1491412907\n",
      "bestIteration = 1586\n",
      "\n",
      "Training on fold [4/5]\n"
     ]
    },
    {
     "name": "stderr",
     "output_type": "stream",
     "text": [
      "Best trial: 1. Best value: 0.172969:  60%|█████████████████████████▊                 | 3/5 [1:29:27<54:13, 1626.84s/it]"
     ]
    },
    {
     "name": "stdout",
     "output_type": "stream",
     "text": [
      "\n",
      "bestTest = 0.1472112078\n",
      "bestIteration = 1589\n",
      "\n",
      "\u001b[32m[I 2023-05-08 17:38:17,835]\u001b[0m Trial 2 finished with value: 0.14849993672873987 and parameters: {'n_estimators': 1600, 'max_depth': 7, 'subsample': 0.884748208618857, 'l2_leaf_reg': 6.596697220064763, 'random_strength': 1.3784702111725697, 'eta': 0.029147501519584507, 'min_data_in_leaf': 4, 'grow_policy': 'Lossguide', 'eval_metric': 'MAPE', 'loss_function': 'MAE', 'silent': True}. Best is trial 1 with value: 0.17296932360918102.\u001b[0m\n",
      "Training on fold [0/5]\n",
      "\n",
      "bestTest = 0.1527238042\n",
      "bestIteration = 1165\n",
      "\n",
      "Training on fold [1/5]\n",
      "\n",
      "bestTest = 0.1506894983\n",
      "bestIteration = 1078\n",
      "\n",
      "Training on fold [2/5]\n",
      "\n",
      "bestTest = 0.1458377504\n",
      "bestIteration = 1188\n",
      "\n",
      "Training on fold [3/5]\n",
      "\n",
      "bestTest = 0.1505253331\n",
      "bestIteration = 1196\n",
      "\n",
      "Training on fold [4/5]\n"
     ]
    },
    {
     "name": "stderr",
     "output_type": "stream",
     "text": [
      "Best trial: 1. Best value: 0.172969:  80%|██████████████████████████████████▍        | 4/5 [1:51:07<24:57, 1497.76s/it]"
     ]
    },
    {
     "name": "stdout",
     "output_type": "stream",
     "text": [
      "\n",
      "bestTest = 0.1499696478\n",
      "bestIteration = 1155\n",
      "\n",
      "\u001b[32m[I 2023-05-08 17:59:57,708]\u001b[0m Trial 3 finished with value: 0.15001379287318772 and parameters: {'n_estimators': 1200, 'max_depth': 7, 'subsample': 0.5298246692093005, 'l2_leaf_reg': 5.321798286454452, 'random_strength': 1.2191112576203593, 'eta': 0.07805009058685626, 'min_data_in_leaf': 4, 'grow_policy': 'Lossguide', 'eval_metric': 'MAPE', 'loss_function': 'MAE', 'silent': True}. Best is trial 1 with value: 0.17296932360918102.\u001b[0m\n",
      "Training on fold [0/5]\n",
      "\n",
      "bestTest = 0.1569227345\n",
      "bestIteration = 1199\n",
      "\n",
      "Training on fold [1/5]\n",
      "\n",
      "bestTest = 0.1573037338\n",
      "bestIteration = 1199\n",
      "\n",
      "Training on fold [2/5]\n",
      "\n",
      "bestTest = 0.1531958644\n",
      "bestIteration = 1199\n",
      "\n",
      "Training on fold [3/5]\n",
      "\n",
      "bestTest = 0.1564893484\n",
      "bestIteration = 1199\n",
      "\n",
      "Training on fold [4/5]\n"
     ]
    },
    {
     "name": "stderr",
     "output_type": "stream",
     "text": [
      "Best trial: 1. Best value: 0.172969: 100%|███████████████████████████████████████████| 5/5 [2:05:46<00:00, 1509.37s/it]"
     ]
    },
    {
     "name": "stdout",
     "output_type": "stream",
     "text": [
      "\n",
      "bestTest = 0.1538559038\n",
      "bestIteration = 1199\n",
      "\n",
      "\u001b[32m[I 2023-05-08 18:14:36,720]\u001b[0m Trial 4 finished with value: 0.1555535169868641 and parameters: {'n_estimators': 1200, 'max_depth': 10, 'subsample': 0.739406526240699, 'l2_leaf_reg': 4.488526510039587, 'random_strength': 1.2516986453949688, 'eta': 0.011128892526120593, 'min_data_in_leaf': 5, 'grow_policy': 'Lossguide', 'eval_metric': 'MAPE', 'loss_function': 'MAE', 'silent': True}. Best is trial 1 with value: 0.17296932360918102.\u001b[0m\n"
     ]
    },
    {
     "name": "stderr",
     "output_type": "stream",
     "text": [
      "\n"
     ]
    }
   ],
   "source": [
    "# %time\n",
    "# study = optuna.create_study(direction=\"maximize\")\n",
    "# study.optimize(objective, n_trials=5, show_progress_bar = True)"
   ]
  },
  {
   "cell_type": "code",
   "execution_count": 220,
   "id": "7b9ce2f7",
   "metadata": {},
   "outputs": [
    {
     "data": {
      "text/plain": [
       "{'n_estimators': 1200,\n",
       " 'max_depth': 2,\n",
       " 'subsample': 0.6326035947536055,\n",
       " 'l2_leaf_reg': 7.431910761969924,\n",
       " 'random_strength': 0.9220108347639834,\n",
       " 'eta': 0.01621830326259315,\n",
       " 'min_data_in_leaf': 4,\n",
       " 'grow_policy': 'Lossguide',\n",
       " 'eval_metric': 'MAPE',\n",
       " 'loss_function': 'MAE',\n",
       " 'silent': True}"
      ]
     },
     "execution_count": 220,
     "metadata": {},
     "output_type": "execute_result"
    }
   ],
   "source": [
    "study.best_params"
   ]
  },
  {
   "cell_type": "code",
   "execution_count": 221,
   "id": "d05f0539",
   "metadata": {},
   "outputs": [],
   "source": [
    "best_params1 = {'n_estimators': 1200,\n",
    " 'max_depth': 2,\n",
    " 'subsample': 0.6326035947536055,\n",
    " 'l2_leaf_reg': 7.431910761969924,\n",
    " 'random_strength': 0.9220108347639834,\n",
    " 'eta': 0.01621830326259315,\n",
    " 'min_data_in_leaf': 4,\n",
    " 'grow_policy': 'Lossguide',\n",
    " 'eval_metric': 'MAPE',\n",
    " 'loss_function': 'MAE',\n",
    " 'silent': True}"
   ]
  },
  {
   "cell_type": "code",
   "execution_count": 222,
   "id": "cdd870ab",
   "metadata": {},
   "outputs": [],
   "source": [
    "from catboost import CatBoostRegressor"
   ]
  },
  {
   "cell_type": "code",
   "execution_count": 223,
   "id": "b772a492",
   "metadata": {},
   "outputs": [],
   "source": [
    "model = CatBoostRegressor(**best_params1)"
   ]
  },
  {
   "cell_type": "code",
   "execution_count": 224,
   "id": "785a78c9",
   "metadata": {},
   "outputs": [
    {
     "data": {
      "text/plain": [
       "<catboost.core.CatBoostRegressor at 0x177a6090dc0>"
      ]
     },
     "execution_count": 224,
     "metadata": {},
     "output_type": "execute_result"
    }
   ],
   "source": [
    "model.fit(train_data)"
   ]
  },
  {
   "cell_type": "code",
   "execution_count": 225,
   "id": "70ddc810",
   "metadata": {},
   "outputs": [
    {
     "data": {
      "text/plain": [
       "['catboost.pkl']"
      ]
     },
     "execution_count": 225,
     "metadata": {},
     "output_type": "execute_result"
    }
   ],
   "source": [
    "import joblib\n",
    "joblib.dump(model, \"catboost.pkl\", compress=9)"
   ]
  },
  {
   "cell_type": "code",
   "execution_count": 226,
   "id": "eb9097b2",
   "metadata": {},
   "outputs": [],
   "source": [
    "model_catboost_plk = joblib.load(\"catboost.pkl\")"
   ]
  },
  {
   "cell_type": "code",
   "execution_count": 227,
   "id": "16fb0257",
   "metadata": {},
   "outputs": [],
   "source": [
    "test['predict'] = model_catboost_plk.predict(test[X])"
   ]
  },
  {
   "cell_type": "code",
   "execution_count": 228,
   "id": "46aed463",
   "metadata": {},
   "outputs": [],
   "source": [
    "from sklearn.metrics import mean_absolute_error, mean_absolute_percentage_error\n",
    "\n",
    "def error(y_true,y_pred):\n",
    "  print(mean_absolute_error(y_true,y_pred))\n",
    "  print(mean_absolute_percentage_error(y_true,y_pred))"
   ]
  },
  {
   "cell_type": "code",
   "execution_count": 229,
   "id": "5add1cc4",
   "metadata": {},
   "outputs": [
    {
     "name": "stdout",
     "output_type": "stream",
     "text": [
      "201189.9449993442\n",
      "0.1778955066599336\n"
     ]
    }
   ],
   "source": [
    "error(test['Price'],test['predict'])"
   ]
  },
  {
   "cell_type": "markdown",
   "id": "bc2109d4",
   "metadata": {},
   "source": [
    "# df_test"
   ]
  },
  {
   "cell_type": "code",
   "execution_count": 230,
   "id": "a60d03c4",
   "metadata": {},
   "outputs": [],
   "source": [
    "df_test['Price'] = model_catboost_plk.predict(df_test[X])"
   ]
  },
  {
   "cell_type": "code",
   "execution_count": 232,
   "id": "6abebc09",
   "metadata": {},
   "outputs": [],
   "source": [
    "df_test_submission = df_test[['id','Price']]"
   ]
  },
  {
   "cell_type": "code",
   "execution_count": 234,
   "id": "3ab9726c",
   "metadata": {},
   "outputs": [],
   "source": [
    "df_test_submission.to_csv('df_test_submission.csv', index=False)"
   ]
  },
  {
   "cell_type": "code",
   "execution_count": null,
   "id": "260da01c",
   "metadata": {},
   "outputs": [],
   "source": []
  }
 ],
 "metadata": {
  "kernelspec": {
   "display_name": "Python 3 (ipykernel)",
   "language": "python",
   "name": "python3"
  },
  "language_info": {
   "codemirror_mode": {
    "name": "ipython",
    "version": 3
   },
   "file_extension": ".py",
   "mimetype": "text/x-python",
   "name": "python",
   "nbconvert_exporter": "python",
   "pygments_lexer": "ipython3",
   "version": "3.10.4"
  }
 },
 "nbformat": 4,
 "nbformat_minor": 5
}
