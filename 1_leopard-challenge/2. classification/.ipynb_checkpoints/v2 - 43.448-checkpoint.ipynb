{
 "cells": [
  {
   "cell_type": "code",
   "execution_count": 1,
   "id": "34675493",
   "metadata": {},
   "outputs": [],
   "source": [
    "import pandas as pd"
   ]
  },
  {
   "cell_type": "code",
   "execution_count": 2,
   "id": "c8ffda30",
   "metadata": {},
   "outputs": [],
   "source": [
    "df = pd.read_csv('D:/ds/leopard-challenge/2. classification/train.csv')"
   ]
  },
  {
   "cell_type": "code",
   "execution_count": 3,
   "id": "3fc86b34",
   "metadata": {},
   "outputs": [],
   "source": [
    "df_test = pd.read_csv('D:/ds/leopard-challenge/2. classification/test.csv')"
   ]
  },
  {
   "cell_type": "markdown",
   "id": "c43c0a80",
   "metadata": {},
   "source": [
    "# Machine learning моделирование"
   ]
  },
  {
   "cell_type": "code",
   "execution_count": 4,
   "id": "b48fac4e",
   "metadata": {},
   "outputs": [],
   "source": [
    "from sklearn.model_selection import train_test_split"
   ]
  },
  {
   "cell_type": "code",
   "execution_count": 5,
   "id": "1ee79baf",
   "metadata": {},
   "outputs": [],
   "source": [
    "train, test = train_test_split(df,train_size=0.8,random_state=42,stratify=df['smoking'])"
   ]
  },
  {
   "cell_type": "code",
   "execution_count": 6,
   "id": "9196c33b",
   "metadata": {},
   "outputs": [],
   "source": [
    "from catboost import CatBoostClassifier"
   ]
  },
  {
   "cell_type": "code",
   "execution_count": 7,
   "id": "acbcec35",
   "metadata": {},
   "outputs": [],
   "source": [
    "y  = ['smoking']\n",
    "X = list(df.drop(columns = ['smoking']).columns)\n",
    "cat_features = list(df.select_dtypes(include = ['object']).columns)"
   ]
  },
  {
   "cell_type": "code",
   "execution_count": 8,
   "id": "b1038c5d",
   "metadata": {},
   "outputs": [],
   "source": [
    "df_label = pd.get_dummies(df, columns=cat_features, drop_first=True).drop('smoking', axis=1)"
   ]
  },
  {
   "cell_type": "markdown",
   "id": "5eb43ad9",
   "metadata": {},
   "source": [
    "# Baseline"
   ]
  },
  {
   "cell_type": "code",
   "execution_count": null,
   "id": "4de9e2eb",
   "metadata": {},
   "outputs": [],
   "source": [
    "from sklearn.model_selection import Log"
   ]
  }
 ],
 "metadata": {
  "kernelspec": {
   "display_name": "Python 3 (ipykernel)",
   "language": "python",
   "name": "python3"
  },
  "language_info": {
   "codemirror_mode": {
    "name": "ipython",
    "version": 3
   },
   "file_extension": ".py",
   "mimetype": "text/x-python",
   "name": "python",
   "nbconvert_exporter": "python",
   "pygments_lexer": "ipython3",
   "version": "3.10.4"
  }
 },
 "nbformat": 4,
 "nbformat_minor": 5
}
